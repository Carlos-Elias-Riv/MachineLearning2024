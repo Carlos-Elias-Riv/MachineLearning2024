{
 "cells": [
  {
   "cell_type": "code",
   "execution_count": 1,
   "metadata": {
    "deletable": false,
    "editable": false,
    "nbgrader": {
     "cell_type": "code",
     "checksum": "afb64540245b7e8fe859a3ca04128d27",
     "grade": false,
     "grade_id": "cell-567080c8ad07dfdd",
     "locked": true,
     "schema_version": 3,
     "solution": false,
     "task": false
    }
   },
   "outputs": [],
   "source": [
    "%matplotlib inline\n",
    "import numpy as np\n",
    "import pandas as pd\n",
    "import matplotlib.pyplot as plt\n",
    "\n",
    "from aml_utils import test_case_checker, perform_computation"
   ]
  },
  {
   "cell_type": "markdown",
   "metadata": {
    "deletable": false,
    "editable": false,
    "nbgrader": {
     "cell_type": "markdown",
     "checksum": "8e366a179093fa7a3ddafcc63e0ea8c3",
     "grade": false,
     "grade_id": "cell-d6bae6592b72f939",
     "locked": true,
     "schema_version": 3,
     "solution": false,
     "task": false
    }
   },
   "source": [
    "Libraries such as `math` are neither as accurate nor as efficient as `numpy`.\n",
    "\n",
    "**Note**: Do not import or use any other libraries other than what is already imported above. "
   ]
  },
  {
   "cell_type": "markdown",
   "metadata": {
    "deletable": false,
    "editable": false,
    "nbgrader": {
     "cell_type": "markdown",
     "checksum": "2e989e084aee7a1bda99f61191bec7dd",
     "grade": false,
     "grade_id": "cell-f650cb44d2fafa44",
     "locked": true,
     "schema_version": 3,
     "solution": false,
     "task": false
    }
   },
   "source": [
    "# *Assignment Summary"
   ]
  },
  {
   "cell_type": "markdown",
   "metadata": {
    "deletable": false,
    "editable": false,
    "nbgrader": {
     "cell_type": "markdown",
     "checksum": "2ebe6e0a553f3be4eebe9f5b3e9af73d",
     "grade": false,
     "grade_id": "cell-ba7e3c8b70eea354",
     "locked": true,
     "schema_version": 3,
     "solution": false,
     "task": false
    }
   },
   "source": [
    "The UCI collection includes a set about authenticating banknotes donated by Volker Lohweg and Helene Doerksen at http://archive.ics.uci.edu/ml/datasets/banknote+authentication . This is a low-dimensional data set including only 4 features without any missing data points. To make things more interesting, you can adverserially augment the data with a large amount of noise features (say 5000 noise features), and see how SVM and different regularization schemes perform.\n",
    "\n",
    "Write a program to train a support vector machine on this data using stochastic gradient descent.  These are some constraints to consider:\n",
    "\n",
    "  * Do not use a package to train the classifier (that's the point), but your own code.\n",
    "    \n",
    "  * Scale the variables so that each has unit variance. \n",
    "    \n",
    "  * Search for an appropriate value of the regularization constant, trying at least the values [1e-3, 1e-2, 1e-1, 1]. Use the validation set for this search.\n",
    "    \n",
    "  * Use at least 50 epochs of at least 300 steps each. In each epoch, you should separate out 50 training examples at random for evaluation (call this the set held out for the epoch). \n",
    "    \n",
    "  * Compute the accuracy of the current classifier on the set held out for the epoch every 30 steps. \n",
    "    \n",
    "You should produce:\n",
    "\n",
    "  * A plot of the accuracy every 30 steps, for each value of the regularization constant.\n",
    "  \n",
    "  * A plot of the magnitude of the coefficient vector every 30 steps, for each value of the regularization constant.\n",
    "  \n",
    "  * Your estimate of the best value of the regularization constant, together with a brief description of why you believe that is a good value.\n",
    "  \n",
    "  * Your estimate of the accuracy of the best classifier on the test dataset data"
   ]
  },
  {
   "cell_type": "markdown",
   "metadata": {
    "deletable": false,
    "editable": false,
    "nbgrader": {
     "cell_type": "markdown",
     "checksum": "f7b581e430accbaeab1cda4e07eb44c8",
     "grade": false,
     "grade_id": "cell-95cc4a581777ab16",
     "locked": true,
     "schema_version": 3,
     "solution": false,
     "task": false
    }
   },
   "source": [
    "# 0. Normalizing the Features"
   ]
  },
  {
   "cell_type": "markdown",
   "metadata": {
    "deletable": false,
    "editable": false,
    "nbgrader": {
     "cell_type": "markdown",
     "checksum": "2fc055bc13b18cbae87ddee74755bcf0",
     "grade": false,
     "grade_id": "cell-8f0f1e276b8f3ec5",
     "locked": true,
     "schema_version": 3,
     "solution": false,
     "task": false
    }
   },
   "source": [
    "# <span style=\"color:blue\">Task 1</span>"
   ]
  },
  {
   "cell_type": "markdown",
   "metadata": {
    "deletable": false,
    "editable": false,
    "nbgrader": {
     "cell_type": "markdown",
     "checksum": "a1369d2022de5e8f260a781288e093fd",
     "grade": false,
     "grade_id": "cell-5b4e7b32e06a70e7",
     "locked": true,
     "schema_version": 3,
     "solution": false,
     "task": false
    }
   },
   "source": [
    "Write a function ```normalize_feats``` that takes the following arguments:\n",
    "\n",
    "1. `train_features`: A numpy array with the shape $(N_{\\text{train}}, d)$, where $d$ is the number of features and $N_{\\text{train}}$ is the number of training samples. \n",
    "2. ```some_features```: A numpy array with the shape $(N_{\\text{some}}, d)$, where $d$ is the number of features and $N_{\\text{some}}$ is the number of samples to be normalized. \n",
    "    \n",
    "    * Do not assume anything about the values of $N_{\\text{train}}, N_{\\text{some}}, d$; they could be anything in the test cases.\n",
    "    \n",
    "and does the following:\n",
    "\n",
    "1. Find the $\\mu_{\\text{train}}$, which is the training set average of the features. $\\mu_{\\text{train}}$ Should have $d$ elements.\n",
    "2. Find the $\\sigma_{\\text{train}}$, which is the training set standard deviation of the features. $\\sigma_{\\text{train}}$ Should have $d$ elements.\n",
    "4. For each row $x$ in `some_features`, define the equivalent row $\\hat{x}$ in `some_features_normalized` to be $\\hat{x} = \\frac{x - \\mu_{\\text{train}}}{\\sigma_{\\text{train}}}$ with the subtraction and division operation defined in an element-wise manner.\n",
    "\n",
    "The function should return the numpy array `some_features_normalized` whose shape is $(N_{\\text{some}}, d)$."
   ]
  },
  {
   "cell_type": "code",
   "execution_count": 2,
   "metadata": {
    "deletable": false,
    "nbgrader": {
     "cell_type": "code",
     "checksum": "f150863b6685c83e78e2ba8fe62a64d7",
     "grade": false,
     "grade_id": "cell-eb752e3b48e146ea",
     "locked": false,
     "schema_version": 3,
     "solution": true,
     "task": false
    }
   },
   "outputs": [],
   "source": [
    "def normalize_feats(train_features, some_features):\n",
    "    \"\"\"\n",
    "    Normalizes the sample data features.\n",
    "    \n",
    "    Parameters\n",
    "    ----------\n",
    "    train_features: A numpy array with the shape (N_train, d), where d is the number of features and N_train is the number of training samples.\n",
    "    some_features: A numpy array with the shape (N_some, d), where d is the number of features and N_some is the number of samples to be normalized.\n",
    "    \n",
    "    Returns\n",
    "    -------\n",
    "    some_features_normalized: A numpy array with shape (N_some, d).\n",
    "    \"\"\"\n",
    "    \n",
    "    # YOUR CODE HERE\n",
    "    mu = np.mean(train_features, 0)\n",
    "    std = np.std(train_features, 0)\n",
    "\n",
    "    some_features_normalized = (some_features - mu) / std\n",
    "    \n",
    "    return some_features_normalized"
   ]
  },
  {
   "cell_type": "code",
   "execution_count": 3,
   "metadata": {
    "deletable": false,
    "editable": false,
    "nbgrader": {
     "cell_type": "code",
     "checksum": "a47102c18311e16fd81af7cb83932888",
     "grade": false,
     "grade_id": "cell-7cdff0d730d9c37f",
     "locked": true,
     "schema_version": 3,
     "solution": false,
     "task": false
    }
   },
   "outputs": [],
   "source": [
    "# Performing sanity checks on your implementation\n",
    "X_train = (np.arange(35).reshape(5,7) ** 13) % 20\n",
    "X_some = np.arange(7).reshape(1,7) * 10\n",
    "X_norm_some = normalize_feats(X_train, X_some)\n",
    "assert np.array_equal(X_norm_some.round(3), np.array([[-1.265,  0.04 ,  2.298,  3.24 ,  9.247,  6.798,  8.056]]))\n",
    "\n",
    "# Checking against the pre-computed test database\n",
    "test_results = test_case_checker(normalize_feats, task_id=1)\n",
    "assert test_results['passed'], test_results['message']"
   ]
  },
  {
   "cell_type": "code",
   "execution_count": 4,
   "metadata": {
    "deletable": false,
    "editable": false,
    "nbgrader": {
     "cell_type": "code",
     "checksum": "f1a6397e672ae31024a403098c0b8a2e",
     "grade": true,
     "grade_id": "cell-fac00217ea9f0201",
     "locked": true,
     "points": 1,
     "schema_version": 3,
     "solution": false,
     "task": false
    }
   },
   "outputs": [],
   "source": [
    "# Task 1 Test Cell\n"
   ]
  },
  {
   "cell_type": "markdown",
   "metadata": {
    "deletable": false,
    "editable": false,
    "nbgrader": {
     "cell_type": "markdown",
     "checksum": "04967cd27b8f8a47dce2be73fb89705e",
     "grade": false,
     "grade_id": "cell-7666cecede6fba29",
     "locked": true,
     "schema_version": 3,
     "solution": false,
     "task": false
    }
   },
   "source": [
    "# 1. The Support Vector Machine"
   ]
  },
  {
   "cell_type": "markdown",
   "metadata": {
    "deletable": false,
    "editable": false,
    "nbgrader": {
     "cell_type": "markdown",
     "checksum": "7d49fbf0b59600174c13d710cdcabeea",
     "grade": false,
     "grade_id": "cell-4a0ba74abed90ea4",
     "locked": true,
     "schema_version": 3,
     "solution": false,
     "task": false
    }
   },
   "source": [
    "## 1.1 Implementing the Utility Functions for SVM"
   ]
  },
  {
   "cell_type": "markdown",
   "metadata": {
    "deletable": false,
    "editable": false,
    "nbgrader": {
     "cell_type": "markdown",
     "checksum": "a3589dc6baa67ca9dff53566081d2e8b",
     "grade": false,
     "grade_id": "cell-abf7b03ef969ee62",
     "locked": true,
     "schema_version": 3,
     "solution": false,
     "task": false
    }
   },
   "source": [
    "# <span style=\"color:blue\">Task 2</span>"
   ]
  },
  {
   "cell_type": "markdown",
   "metadata": {
    "deletable": false,
    "editable": false,
    "nbgrader": {
     "cell_type": "markdown",
     "checksum": "0d4f66dff6d2d8f8f84f981a0967b4e5",
     "grade": false,
     "grade_id": "cell-20aa26190a827ccc",
     "locked": true,
     "schema_version": 3,
     "solution": false,
     "task": false
    }
   },
   "source": [
    "Write a function ```e_term``` that takes the following arguments:\n",
    "\n",
    "1. `x_batch`: A numpy array with the shape $(N, d)$, where $d$ is the number of features and $N$ is the batch size. \n",
    "2. `y_batch`: A numpy array with the shape $(N, 1)$, where $N$ is the batch size. \n",
    "2. `a`: A numpy array with the shape $(d, 1)$, where $d$ is the number of features. This is the weight vector.\n",
    "2. `b`: A scalar. \n",
    "    \n",
    "    * Do not assume anything about the values of $N, d$; they could be anything in the test cases.\n",
    "    \n",
    "and returns the numpy array `e_batch` whose shape is $(N,1)$ and is defined as the following:\n",
    "\n",
    "* If the $k^{th}$ row of `x_batch`, `y_batch`, and `e_batch` were to be denoted as $x^{(k)}$, $y_k$ and $e_k$, respectively, then we have $e_k= 1- y_k (a\\cdot x^{(k)}+b)$, where $a\\cdot x^{(k)}$ is the dot product of the vectors $a$ and $x^{(k)}$.\n",
    "\n",
    "It may be a good thought exercise to implement this function without utilizing `for` loops. In fact, it's easier, more efficient, and possible in a single line."
   ]
  },
  {
   "cell_type": "code",
   "execution_count": 5,
   "metadata": {
    "deletable": false,
    "nbgrader": {
     "cell_type": "code",
     "checksum": "f16a6e229c3a063d70d3ff03ca33b5be",
     "grade": false,
     "grade_id": "cell-0a84e7f2063bb5c9",
     "locked": false,
     "schema_version": 3,
     "solution": true,
     "task": false
    }
   },
   "outputs": [],
   "source": [
    "def e_term(x_batch, y_batch, a, b):\n",
    "    \"\"\"\n",
    "    Computes the margin of the data points.\n",
    "    \n",
    "    Parameters\n",
    "    ----------\n",
    "    x_batch: A numpy array with the shape (N, d), where d is the number of features and N is the batch size.\n",
    "    y_batch: A numpy array with the shape (N, 1), where N is the batch size.\n",
    "    a: A numpy array with the shape (d, 1), where d is the number of features. This is the weight vector.\n",
    "    b: A scalar.\n",
    "    \n",
    "    Returns\n",
    "    -------\n",
    "    e_batch: A numpy array with shape (N, 1). \n",
    "    \"\"\"\n",
    "    \n",
    "    # YOUR CODE HERE\n",
    "    #raise NotImplementedError()\n",
    "\n",
    "    e_batch = 1 - y_batch*(a.T@x_batch.T + b) \n",
    "    \n",
    "    return e_batch.diagonal().reshape((x_batch.shape[0], 1))"
   ]
  },
  {
   "cell_type": "code",
   "execution_count": 6,
   "metadata": {},
   "outputs": [
    {
     "data": {
      "text/plain": [
       "(5, 1)"
      ]
     },
     "execution_count": 6,
     "metadata": {},
     "output_type": "execute_result"
    }
   ],
   "source": [
    " np.array([[ 5.986],[ 7.043],[ 7.529],[-4.014],[-1.7  ]]).shape"
   ]
  },
  {
   "cell_type": "code",
   "execution_count": 7,
   "metadata": {
    "deletable": false,
    "editable": false,
    "nbgrader": {
     "cell_type": "code",
     "checksum": "dc1750bd2450ed090382efd5bd86038f",
     "grade": false,
     "grade_id": "cell-0bdcf6570cbe96b2",
     "locked": true,
     "schema_version": 3,
     "solution": false,
     "task": false
    }
   },
   "outputs": [],
   "source": [
    "# Performing sanity checks on your implementation\n",
    "x_batch_ = ((np.arange(35).reshape(5,7) ** 13) % 20) / 7.\n",
    "y_batch_ = (2. * (np.arange(5)>2) - 1.).reshape(-1,1)\n",
    "a_ = (np.arange(7)* 0.2).reshape(-1,1)\n",
    "b_ = 0.1\n",
    "e_batch_ = e_term(x_batch_, y_batch_, a_, b_)\n",
    "\n",
    "assert np.array_equal(e_batch_.round(3), np.array([[ 5.986],[ 7.043],[ 7.529],[-4.014],[-1.7  ]]))\n",
    "\n",
    "# Checking against the pre-computed test database\n",
    "test_results = test_case_checker(e_term, task_id=2)\n",
    "assert test_results['passed'], test_results['message']"
   ]
  },
  {
   "cell_type": "code",
   "execution_count": 8,
   "metadata": {},
   "outputs": [
    {
     "data": {
      "text/plain": [
       "(5, 1)"
      ]
     },
     "execution_count": 8,
     "metadata": {},
     "output_type": "execute_result"
    }
   ],
   "source": [
    "np.array([[ 5.986],[ 7.043],[ 7.529],[-4.014],[-1.7  ]]).shape"
   ]
  },
  {
   "cell_type": "code",
   "execution_count": 9,
   "metadata": {},
   "outputs": [
    {
     "data": {
      "text/plain": [
       "(5, 1)"
      ]
     },
     "execution_count": 9,
     "metadata": {},
     "output_type": "execute_result"
    }
   ],
   "source": [
    "e_batch_.shape"
   ]
  },
  {
   "cell_type": "code",
   "execution_count": 10,
   "metadata": {},
   "outputs": [
    {
     "data": {
      "text/plain": [
       "array([[ 5.98571429],\n",
       "       [ 7.04285714],\n",
       "       [ 7.52857143],\n",
       "       [-4.01428571],\n",
       "       [-1.7       ]])"
      ]
     },
     "execution_count": 10,
     "metadata": {},
     "output_type": "execute_result"
    }
   ],
   "source": [
    "e_batch_"
   ]
  },
  {
   "cell_type": "code",
   "execution_count": 11,
   "metadata": {
    "deletable": false,
    "editable": false,
    "nbgrader": {
     "cell_type": "code",
     "checksum": "dd52f3854f18de5c4d60be2e6ec21b7d",
     "grade": true,
     "grade_id": "cell-ad1d2c2aefd1f55e",
     "locked": true,
     "points": 1,
     "schema_version": 3,
     "solution": false,
     "task": false
    }
   },
   "outputs": [],
   "source": [
    "# Task 2 Test Cell\n"
   ]
  },
  {
   "cell_type": "markdown",
   "metadata": {
    "deletable": false,
    "editable": false,
    "nbgrader": {
     "cell_type": "markdown",
     "checksum": "4db0271edc0ca946d2586535758ff614",
     "grade": false,
     "grade_id": "cell-43605d5966a6e668",
     "locked": true,
     "schema_version": 3,
     "solution": false,
     "task": false
    }
   },
   "source": [
    "# <span style=\"color:blue\">Task 3</span>"
   ]
  },
  {
   "cell_type": "markdown",
   "metadata": {
    "deletable": false,
    "editable": false,
    "nbgrader": {
     "cell_type": "markdown",
     "checksum": "0bd50f4a25c20f5dc6dcee5168b6c4b1",
     "grade": false,
     "grade_id": "cell-3f68071d7ef38610",
     "locked": true,
     "schema_version": 3,
     "solution": false,
     "task": false
    }
   },
   "source": [
    "Write a function ```loss_terms_ridge``` that computes the hinge and ridge regularization losses. The `loss_terms_ridge` functions should take the following arguments:\n",
    "\n",
    "1. `e_batch`: A numpy array with the shape $(N, 1)$, where $N$ is the batch size. This is the output of the `e_term` function you wrote previously, and its $k^{(th)}$ element is $e_k= 1- y_k (a\\cdot x^{(k)}+b)$.\n",
    "2. `a`: A numpy array with the shape $(d, 1)$, where $d$ is the number of features. This is the weight vector.\n",
    "3. `lam`: A scalar representing the regularization coefficient $\\lambda$. \n",
    "    \n",
    "    * Do not assume anything about the values of $N, d$; they could be anything in the test cases.\n",
    "    \n",
    "and return the following two scalars:\n",
    "\n",
    "1. `hinge_loss`: This hinge loss is defined as $l_{\\text{hinge}} = \\frac{1}{N}\\sum_{i=1}^{N} \\max(0, 1- y_i (a\\cdot x^{(i)}+b))$. This can easily be written as a function of `e_batch`.\n",
    "2. `ridge_loss`: This ridge regularization loss is defined as $l_{\\text{ridge}} = \\frac{\\lambda}{2} \\|a\\|_2^2 = \\frac{\\lambda}{2} a^Ta$.\n",
    "\n",
    "You should produce both `hinge_loss` and `ridge_loss`. \n",
    "* Make sure that both of them are scalars and not multi-element arrays. \n",
    "* It may be a good thought exercise to implement this function without utilizing `for` loops. You only need a single line for each term."
   ]
  },
  {
   "cell_type": "code",
   "execution_count": 56,
   "metadata": {
    "deletable": false,
    "nbgrader": {
     "cell_type": "code",
     "checksum": "595e75aff877d2cf5af20e5b7e77f40d",
     "grade": false,
     "grade_id": "cell-d2902f9e234f3c45",
     "locked": false,
     "schema_version": 3,
     "solution": true,
     "task": false
    }
   },
   "outputs": [],
   "source": [
    "def loss_terms_ridge(e_batch, a, lam):\n",
    "    \"\"\"\n",
    "    Computes the hinge and ridge regularization losses.\n",
    "    \n",
    "    Parameters\n",
    "    ----------\n",
    "    e_batch: A numpy array with the shape (N, 1), where N is the batch size. This is the output of the e_term function you wrote previously, and its kth element is e_k = 1 − y_k(a*x_k+b).\n",
    "    a: A numpy array with the shape (d, 1), where d is the number of features. This is the weight vector.\n",
    "    lam: A scalar representing the regularization coefficient 𝜆.\n",
    "    \n",
    "    Returns\n",
    "    -------\n",
    "    hinge_loss: The hinge regularization loss defined in the above cell.\n",
    "    ridge_loss: The ridge regularization loss defined in the above cell.\n",
    "    \"\"\"\n",
    "    \n",
    "    # YOUR CODE HERE\n",
    "    #e_batch[e_batch < 0] = 0\n",
    "    hinge_loss = np.mean(np.where(e_batch < 0, 0, e_batch))\n",
    "    ridge_loss = 0.5*lam*(a.T@a).item()\n",
    "    \n",
    "    return np.array((hinge_loss, ridge_loss))"
   ]
  },
  {
   "cell_type": "code",
   "execution_count": 57,
   "metadata": {
    "deletable": false,
    "editable": false,
    "nbgrader": {
     "cell_type": "code",
     "checksum": "a76713e36fc61068907fa988ce587243",
     "grade": false,
     "grade_id": "cell-b78d109eb9ad5169",
     "locked": true,
     "schema_version": 3,
     "solution": false,
     "task": false
    }
   },
   "outputs": [],
   "source": [
    "# Performing sanity checks on your implementation\n",
    "e_batch_ = ((np.arange(35).reshape(-1,1) ** 13) % 20) / 7.\n",
    "a_ = (np.arange(7)* 0.2).reshape(-1,1)\n",
    "lam_ = 10.\n",
    "\n",
    "hinge_loss_1, reg_loss_1 = tuple(loss_terms_ridge(e_batch_, a_, lam_))\n",
    "assert np.round(hinge_loss_1,3) == 1.114 and np.round(reg_loss_1,3) == 18.2\n",
    "\n",
    "hinge_loss_2, reg_loss_2 = tuple(loss_terms_ridge(e_batch_-1., a_, lam_))\n",
    "assert np.round(hinge_loss_2,3) == 0.412 and np.round(reg_loss_2,3) == 18.2\n",
    "\n",
    "# Checking against the pre-computed test database\n",
    "test_results = test_case_checker(loss_terms_ridge, task_id=3)\n",
    "assert test_results['passed'], test_results['message']"
   ]
  },
  {
   "cell_type": "code",
   "execution_count": 58,
   "metadata": {},
   "outputs": [],
   "source": [
    "e_batch_ = ((np.arange(35).reshape(-1,1) ** 13) % 20) / 7.\n",
    "a_ = (np.arange(7)* 0.2).reshape(-1,1)\n",
    "lam_ = 10."
   ]
  },
  {
   "cell_type": "code",
   "execution_count": 59,
   "metadata": {},
   "outputs": [
    {
     "data": {
      "text/plain": [
       "1.1142857142857143"
      ]
     },
     "execution_count": 59,
     "metadata": {},
     "output_type": "execute_result"
    }
   ],
   "source": [
    "e_batch_[e_batch_ < 0] = 0\n",
    "np.mean(e_batch_)"
   ]
  },
  {
   "cell_type": "code",
   "execution_count": 60,
   "metadata": {},
   "outputs": [
    {
     "data": {
      "text/plain": [
       "18.200000000000003"
      ]
     },
     "execution_count": 60,
     "metadata": {},
     "output_type": "execute_result"
    }
   ],
   "source": [
    "ridge = 0.5*lam_*(a_.T@a_)\n",
    "ridge.item()"
   ]
  },
  {
   "cell_type": "code",
   "execution_count": 61,
   "metadata": {
    "deletable": false,
    "editable": false,
    "nbgrader": {
     "cell_type": "code",
     "checksum": "a47a94d49916e00225f0518bd7e49062",
     "grade": true,
     "grade_id": "cell-f3b7ff33cd92cb57",
     "locked": true,
     "points": 1,
     "schema_version": 3,
     "solution": false,
     "task": false
    }
   },
   "outputs": [],
   "source": [
    "# Task 3 Test Cell\n"
   ]
  },
  {
   "cell_type": "markdown",
   "metadata": {
    "deletable": false,
    "editable": false,
    "nbgrader": {
     "cell_type": "markdown",
     "checksum": "00b87ecf20d778ec940a1eaa7c525505",
     "grade": false,
     "grade_id": "cell-5b327811e6461d56",
     "locked": true,
     "schema_version": 3,
     "solution": false,
     "task": false
    }
   },
   "source": [
    "# <span style=\"color:blue\">Task 4</span>"
   ]
  },
  {
   "cell_type": "markdown",
   "metadata": {
    "deletable": false,
    "editable": false,
    "nbgrader": {
     "cell_type": "markdown",
     "checksum": "d871bc4f61eb827b4c91ecba236c6b67",
     "grade": false,
     "grade_id": "cell-a3c87de7958ac5cd",
     "locked": true,
     "schema_version": 3,
     "solution": false,
     "task": false
    }
   },
   "source": [
    "Write a function ```a_gradient_ridge``` that computes the ridge-regularized loss gradient with respect to the weights vector and takes the following arguments:\n",
    "\n",
    "1. `x_batch`: A numpy array with the shape $(N, d)$, where $d$ is the number of features and $N$ is the batch size. \n",
    "2. `y_batch`: A numpy array with the shape $(N, 1)$, where $N$ is the batch size. \n",
    "3. `e_batch`: A numpy array with the shape $(N, 1)$, where $N$ is the batch size. This is the output of the `e_term` function you wrote previously, and its $k^{(th)}$ element is $e_k= 1- y_k (a\\cdot x^{(k)}+b)$.\n",
    "4. `a`: A numpy array with the shape $(d, 1)$, where $d$ is the number of features. This is the weight vector.\n",
    "5. `lam`: A scalar representing the regularization coefficient $\\lambda$. \n",
    "    \n",
    "    * Do not assume anything about the values of $N, d$; they could be anything in the test cases.\n",
    "    \n",
    "`a_gradient_ridge` should return the numpy array `grad_a` whose shape is $(d,1)$ and is defined as $\\nabla_a l := \\lambda a + \\frac{1}{N}\\sum_{i=1}^{N} \\nabla_a \\max(0, 1- y_i (a\\cdot x^{(i)}+b))$. You may need to revisit the textbook for information on how to compute the hinge loss gradient. \n",
    "\n",
    "* **Important Note**: To be consistent, be careful about the inequality operators and make sure you are following the textbook; $\\geq$ is different from $>$. \n",
    "\n",
    "It may be a good thought exercise to implement this function without utilizing `for` loops. In fact, it's easier, more efficient, and possible in a single line."
   ]
  },
  {
   "cell_type": "code",
   "execution_count": 62,
   "metadata": {
    "deletable": false,
    "nbgrader": {
     "cell_type": "code",
     "checksum": "3e7a13f008f83d9039b04729dbb66ba5",
     "grade": false,
     "grade_id": "cell-e7149c92afb018a3",
     "locked": false,
     "schema_version": 3,
     "solution": true,
     "task": false
    }
   },
   "outputs": [],
   "source": [
    "def a_gradient_ridge(x_batch, y_batch, e_batch, a, lam):\n",
    "    \"\"\"\n",
    "    Computes the ridge_regularized loss gradient w.r.t the weights vector.\n",
    "    \n",
    "    Parameters\n",
    "    ----------\n",
    "    x_batch: A numpy array with the shape (N, d), where d is the number of features and N is the batch size.\n",
    "    y_batch: A numpy array with the shape (N, 1), where N is the batch size.\n",
    "    e_batch: A numpy array with the shape (N, 1), where N is the batch size. This is the output of the e_term function you wrote previously, and its kth element is e_k = 1 − y_k(a*x_k+b).\n",
    "    a: A numpy array with the shape (d, 1), where d is the number of features. This is the weight vector.\n",
    "    lam: A scalar representing the regularization coefficient 𝜆.\n",
    "    \n",
    "    Returns\n",
    "    -------\n",
    "    grad_a: A numpy array with shape (d, 1) and defined as the gradient of the ridge regularized loss function. \n",
    "    \"\"\"\n",
    "    \n",
    "    # YOUR CODE HERE\n",
    "    grad_a = lam*a + np.mean(np.where(e_batch < 0, 0, -y_batch*x_batch), axis = 0)\n",
    "    \n",
    "    return grad_a.diagonal().reshape((x_batch.shape[1], 1))"
   ]
  },
  {
   "cell_type": "code",
   "execution_count": 63,
   "metadata": {
    "deletable": false,
    "editable": false,
    "nbgrader": {
     "cell_type": "code",
     "checksum": "e4197fd65e3d72713927d9e6f108ae9a",
     "grade": false,
     "grade_id": "cell-f5618a81947239fb",
     "locked": true,
     "schema_version": 3,
     "solution": false,
     "task": false
    }
   },
   "outputs": [],
   "source": [
    "# Performing sanity checks on your implementation\n",
    "x_batch_ = ((np.arange(35).reshape(5,7) ** 13) % 20) / 7.\n",
    "y_batch_ = (2. * (np.arange(5)>2) - 1.).reshape(-1,1)\n",
    "a_ = (np.arange(7)* 0.2).reshape(-1,1)\n",
    "b_ = 0.1\n",
    "lam_ = 10.\n",
    "e_batch_ = e_term(x_batch_, y_batch_, a_, b_)\n",
    "\n",
    "grad_a_ = a_gradient_ridge(x_batch_, y_batch_, e_batch_, a_, lam_)\n",
    "\n",
    "assert np.array_equal(grad_a_.round(3), np.array([[ 0.314],[ 2.686],[ 5.057],[ 6.571],[ 8.657],[11.029],[12.829]]))\n",
    "\n",
    "# Checking against the pre-computed test database\n",
    "test_results = test_case_checker(a_gradient_ridge, task_id=4)\n",
    "assert test_results['passed'], test_results['message']"
   ]
  },
  {
   "cell_type": "code",
   "execution_count": 64,
   "metadata": {},
   "outputs": [
    {
     "data": {
      "text/plain": [
       "array([[0.        , 0.14285714, 1.71428571, 0.42857143, 0.57142857,\n",
       "        0.71428571, 2.28571429],\n",
       "       [1.        , 1.14285714, 1.28571429, 0.        , 1.57142857,\n",
       "        1.71428571, 1.85714286],\n",
       "       [0.57142857, 2.14285714, 2.28571429, 2.42857143, 1.14285714,\n",
       "        2.71428571, 0.        ],\n",
       "       [0.        , 0.        , 0.        , 0.        , 0.        ,\n",
       "        0.        , 0.        ],\n",
       "       [0.        , 0.        , 0.        , 0.        , 0.        ,\n",
       "        0.        , 0.        ]])"
      ]
     },
     "execution_count": 64,
     "metadata": {},
     "output_type": "execute_result"
    }
   ],
   "source": [
    "np.where(e_batch_ < 0, 0, -y_batch_*x_batch_)"
   ]
  },
  {
   "cell_type": "code",
   "execution_count": 65,
   "metadata": {},
   "outputs": [
    {
     "data": {
      "text/plain": [
       "array([[ 5.98571429],\n",
       "       [ 7.04285714],\n",
       "       [ 7.52857143],\n",
       "       [-4.01428571],\n",
       "       [-1.7       ]])"
      ]
     },
     "execution_count": 65,
     "metadata": {},
     "output_type": "execute_result"
    }
   ],
   "source": [
    "e_batch_"
   ]
  },
  {
   "cell_type": "code",
   "execution_count": 66,
   "metadata": {},
   "outputs": [
    {
     "data": {
      "text/plain": [
       "array([[ 0.31428571],\n",
       "       [ 2.68571429],\n",
       "       [ 5.05714286],\n",
       "       [ 6.57142857],\n",
       "       [ 8.65714286],\n",
       "       [11.02857143],\n",
       "       [12.82857143]])"
      ]
     },
     "execution_count": 66,
     "metadata": {},
     "output_type": "execute_result"
    }
   ],
   "source": [
    "grad_a_"
   ]
  },
  {
   "cell_type": "code",
   "execution_count": 67,
   "metadata": {
    "deletable": false,
    "editable": false,
    "nbgrader": {
     "cell_type": "code",
     "checksum": "ddd6c6d4f13b467f496fffc7046793e5",
     "grade": true,
     "grade_id": "cell-11c79179fb3901ca",
     "locked": true,
     "points": 1,
     "schema_version": 3,
     "solution": false,
     "task": false
    }
   },
   "outputs": [],
   "source": [
    "# Task 4 Test Cell\n"
   ]
  },
  {
   "cell_type": "markdown",
   "metadata": {
    "deletable": false,
    "editable": false,
    "nbgrader": {
     "cell_type": "markdown",
     "checksum": "a1eb417831ec521773a36f66ab894711",
     "grade": false,
     "grade_id": "cell-2a2effd2e5d36092",
     "locked": true,
     "schema_version": 3,
     "solution": false,
     "task": false
    }
   },
   "source": [
    "# <span style=\"color:blue\">Task 5</span>"
   ]
  },
  {
   "cell_type": "markdown",
   "metadata": {
    "deletable": false,
    "editable": false,
    "nbgrader": {
     "cell_type": "markdown",
     "checksum": "5f11f08e749ffc9ea7f1bc8b9a4b98b1",
     "grade": false,
     "grade_id": "cell-7decd8b34b17511a",
     "locked": true,
     "schema_version": 3,
     "solution": false,
     "task": false
    }
   },
   "source": [
    "Write a function ```b_derivative``` that computes the loss gradient with respect to the bias parameter and takes the following arguments:\n",
    "\n",
    "1. `y_batch`: A numpy array with the shape $(N, 1)$, where $N$ is the batch size. \n",
    "2. `e_batch`: A numpy array with the shape $(N, 1)$, where $N$ is the batch size. This is the output of the `e_term` function you wrote previously, and its $k^{(th)}$ element is $e_k= 1- y_k (a\\cdot x^{(k)}+b)$.\n",
    "    \n",
    "    * Do not assume anything about the values of $N, d$; they could be anything in the test cases.\n",
    "    \n",
    "and returns the numpy array `der_b` which is a scalar just like `b` (Do not return a numpy array). `der_b` is defined as $\\frac{\\partial}{\\partial b} l := \\frac{1}{N}\\sum_{i=1}^{N} \\frac{\\partial}{\\partial b} \\max(0, 1- y_i (a\\cdot x^{(i)}+b))$. You may need to revisit the textbook for information on how to compute the hinge loss derivative. \n",
    "\n",
    "* **Important Note**: To be consistent, be careful about the inequality operators and make sure you are following the textbook; $\\geq$ is different from $>$. \n",
    "\n",
    "It may be a good thought exercise to implement this function without utilizing `for` loops. In fact, it's easier, more efficient, and possible in a single line."
   ]
  },
  {
   "cell_type": "code",
   "execution_count": 68,
   "metadata": {
    "deletable": false,
    "nbgrader": {
     "cell_type": "code",
     "checksum": "665c510d8ec3f2dfc83c0f6204e56d99",
     "grade": false,
     "grade_id": "cell-3733c05009e2b0bc",
     "locked": false,
     "schema_version": 3,
     "solution": true,
     "task": false
    }
   },
   "outputs": [],
   "source": [
    "def b_derivative(y_batch, e_batch):\n",
    "    \"\"\"\n",
    "    Computes the loss gradient with respect to the bias parameter b.\n",
    "    \n",
    "    Parameters\n",
    "    ----------\n",
    "    y_batch: A numpy array with the shape (N, 1), where N is the batch size.\n",
    "    e_batch: A numpy array with the shape (N, 1), where N is the batch size. This is the output of the e_term function you wrote previously, and its kth element is e_k = 1 − y_k(a*x_k+b).\n",
    "    \n",
    "    Returns\n",
    "    -------\n",
    "    der_b: A scalar defined as the gradient of the hinge loss w.r.t the bias parameter b.\n",
    "    \"\"\"\n",
    "    \n",
    "    # YOUR CODE HERE\n",
    "    der_b = np.mean(np.where(e_batch < 0, 0, -y_batch), axis = 0)\n",
    "    \n",
    "    return der_b"
   ]
  },
  {
   "cell_type": "code",
   "execution_count": 69,
   "metadata": {
    "deletable": false,
    "editable": false,
    "nbgrader": {
     "cell_type": "code",
     "checksum": "a27f564c5e55db00894d2e6b5e9ee420",
     "grade": false,
     "grade_id": "cell-cbe7408f6deacfe3",
     "locked": true,
     "schema_version": 3,
     "solution": false,
     "task": false
    }
   },
   "outputs": [],
   "source": [
    "# Performing sanity checks on your implementation\n",
    "x_batch_ = ((np.arange(35).reshape(5,7) ** 13) % 20) / 7.\n",
    "y_batch_ = (2. * (np.arange(5)>2) - 1.).reshape(-1,1)\n",
    "a_ = (np.arange(7)* 0.2).reshape(-1,1)\n",
    "b_ = -5.\n",
    "e_batch_ = e_term(x_batch_, y_batch_, a_, b_)\n",
    "\n",
    "grad_b_ = b_derivative(y_batch_, e_batch_)\n",
    "\n",
    "assert np.round(grad_b_, 3) == 0.2\n",
    "\n",
    "# Checking against the pre-computed test database\n",
    "test_results = test_case_checker(b_derivative, task_id=5)\n",
    "assert test_results['passed'], test_results['message']"
   ]
  },
  {
   "cell_type": "code",
   "execution_count": 70,
   "metadata": {
    "deletable": false,
    "editable": false,
    "nbgrader": {
     "cell_type": "code",
     "checksum": "c0b8665ee57e4c3cdce8af317f35914c",
     "grade": true,
     "grade_id": "cell-909a16db0028c08d",
     "locked": true,
     "points": 1,
     "schema_version": 3,
     "solution": false,
     "task": false
    }
   },
   "outputs": [],
   "source": [
    "# Task 5 Test Cell\n"
   ]
  },
  {
   "cell_type": "markdown",
   "metadata": {},
   "source": [
    "## 1.1 Lasso Regularized SVM"
   ]
  },
  {
   "cell_type": "markdown",
   "metadata": {},
   "source": [
    "In the textbook, you learned about SVM model with Ridge (a.k.a. L2-norm) regularization and how to use Stochastic Gradient Descent to compute the gradient for the following model\n",
    "\n",
    "$$l_{ridge} = \\lambda\\sum_{j=1}^{d}\\frac{1}{2}a_j^2 + \\frac{1}{N}\\sum_{i=1}^{N} \\max(0, 1- y_i (a\\cdot x^{(i)}+b))$$\n",
    "\n",
    "One can modify the regularization function of this model to obtain the Lasso (a.k.a. L1-norm) regularized SVM:\n",
    "\n",
    "$$l_{lasso} = \\lambda \\sum_{j=1}^{d}|a_j| + \\frac{1}{N}\\sum_{i=1}^{N} \\max(0, 1- y_i (a\\cdot x^{(i)}+b))$$\n",
    "\n",
    "It's fair to say that minimizing Ridge regularization will prioritize minimizing larger weights and puts less emphasis on smaller weights. In other words, **Ridge** regularized models will **supress larger weights more** and care less about smaller weights **than Lasso** regularized models.\n",
    "\n",
    "You will learn about the differences between Ridge and Lasso regularization later in the course. It's okay if you don't know their differences. The assignment and task descriptions will walk you through what you need for implementation."
   ]
  },
  {
   "cell_type": "markdown",
   "metadata": {
    "deletable": false,
    "editable": false,
    "nbgrader": {
     "cell_type": "markdown",
     "checksum": "824cb28638ac11785ce6458b6c339ae7",
     "grade": false,
     "grade_id": "cell-355fd340fce215f2",
     "locked": true,
     "schema_version": 3,
     "solution": false,
     "task": false
    }
   },
   "source": [
    "# <span style=\"color:blue\">Task 6</span>"
   ]
  },
  {
   "cell_type": "markdown",
   "metadata": {
    "deletable": false,
    "editable": false,
    "nbgrader": {
     "cell_type": "markdown",
     "checksum": "e89763e2ad218d6c005fa3b1dc968849",
     "grade": false,
     "grade_id": "cell-e1b4c89848703610",
     "locked": true,
     "schema_version": 3,
     "solution": false,
     "task": false
    }
   },
   "source": [
    "Similar to the `loss_terms_ridge` you previously wrote, write a function ```loss_terms_lasso``` that computes the hinge and lasso regularization losses. The `loss_terms_lasso` functions should take the following arguments:\n",
    "\n",
    "1. `e_batch`: A numpy array with the shape $(N, 1)$, where $N$ is the batch size. This is the output of the `e_term` function you wrote previously, and its $k^{(th)}$ element is $e_k= 1- y_k (a\\cdot x^{(k)}+b)$.\n",
    "2. `a`: A numpy array with the shape $(d, 1)$, where $d$ is the number of features. This is the weight vector.\n",
    "3. `lam`: A scalar representing the regularization coefficient $\\lambda$. \n",
    "    \n",
    "    * Do not assume anything about the values of $N, d$; they could be anything in the test cases.\n",
    "    \n",
    "and return the following two scalars:\n",
    "\n",
    "1. `hinge_loss`: This hinge loss is defined as $l_{\\text{hinge}} = \\frac{1}{N}\\sum_{i=1}^{N} \\max(0, 1- y_i (a\\cdot x^{(i)}+b))$. This can easily be written as a function of `e_batch`.\n",
    "2. `lasso_loss`: This lasso regularization loss is defined as $l_{\\text{lasso}} = \\lambda \\|a\\|_1^1 = \\lambda \\sum_{j=1}^{d} |a_j|$.\n",
    "\n",
    "You should produce both `hinge_loss` and `lasso_loss`. \n",
    "* Make sure that both of them are scalars and not multi-element arrays. \n",
    "* It may be a good thought exercise to implement this function without utilizing `for` loops. You only need a single line for each term."
   ]
  },
  {
   "cell_type": "code",
   "execution_count": 71,
   "metadata": {
    "deletable": false,
    "nbgrader": {
     "cell_type": "code",
     "checksum": "f0d3c6dfee1a6556a42276ce98956d3c",
     "grade": false,
     "grade_id": "cell-550c1bea7be4e9c1",
     "locked": false,
     "schema_version": 3,
     "solution": true,
     "task": false
    }
   },
   "outputs": [],
   "source": [
    "def loss_terms_lasso(e_batch, a, lam):\n",
    "    \"\"\"\n",
    "    Computes the hinge and lasso regularization losses.\n",
    "    \n",
    "    Parameters\n",
    "    ----------\n",
    "    e_batch: A numpy array with the shape (N, 1), where N is the batch size. This is the output of the e_term function you wrote previously, and its kth element is e_k = 1 − y_k(a*x_k+b).\n",
    "    a: A numpy array with the shape (d, 1), where d is the number of features. This is the weight vector.\n",
    "    lam: A scalar representing the regularization coefficient 𝜆.\n",
    "    \n",
    "    Returns\n",
    "    -------\n",
    "    hinge_loss: The hinge loss scalar as defined in the cell above.\n",
    "    lasso_loss: The lasso loss scalar as defined in the cell above.\n",
    "    \"\"\"\n",
    "    \n",
    "    # YOUR CODE HERE\n",
    "    hinge_loss = np.mean(np.where(e_batch < 0, 0, e_batch))\n",
    "    lasso_loss = lam*np.sum(np.abs(a))\n",
    "    \n",
    "    return np.array((hinge_loss, lasso_loss))"
   ]
  },
  {
   "cell_type": "code",
   "execution_count": 72,
   "metadata": {
    "deletable": false,
    "editable": false,
    "nbgrader": {
     "cell_type": "code",
     "checksum": "be53fe35815b186ca42810c1314c0536",
     "grade": false,
     "grade_id": "cell-794e69745b01533f",
     "locked": true,
     "schema_version": 3,
     "solution": false,
     "task": false
    }
   },
   "outputs": [],
   "source": [
    "# Performing sanity checks on your implementation\n",
    "e_batch_ = ((np.arange(35).reshape(-1,1) ** 13) % 20) / 7.\n",
    "a_ = (np.arange(7)* 0.2).reshape(-1,1)\n",
    "lam_ = 10.\n",
    "\n",
    "hinge_loss_1, reg_loss_1 = tuple(loss_terms_lasso(e_batch_, a_, lam_))\n",
    "assert np.round(hinge_loss_1,3) == 1.114 and np.round(reg_loss_1,3) == 42.0, np.round(reg_loss_1,3)\n",
    "\n",
    "hinge_loss_2, reg_loss_2 = tuple(loss_terms_lasso(e_batch_-1., a_, lam_))\n",
    "assert np.round(hinge_loss_2,3) == 0.412 and np.round(reg_loss_2,3) == 42.0, np.round(reg_loss_2,3)\n",
    "\n",
    "# Checking against the pre-computed test database\n",
    "test_results = test_case_checker(loss_terms_lasso, task_id=6)\n",
    "assert test_results['passed'], test_results['message']"
   ]
  },
  {
   "cell_type": "code",
   "execution_count": 73,
   "metadata": {
    "deletable": false,
    "editable": false,
    "nbgrader": {
     "cell_type": "code",
     "checksum": "0b45b20ec396128ef4a615f0306a4063",
     "grade": true,
     "grade_id": "cell-bf47a418abe58f6f",
     "locked": true,
     "points": 1,
     "schema_version": 3,
     "solution": false,
     "task": false
    }
   },
   "outputs": [],
   "source": [
    "# Task 6 Test Cell\n"
   ]
  },
  {
   "cell_type": "markdown",
   "metadata": {
    "deletable": false,
    "editable": false,
    "nbgrader": {
     "cell_type": "markdown",
     "checksum": "eb08541cced3c583b2004028e6b8857b",
     "grade": false,
     "grade_id": "cell-88561c3434b8f334",
     "locked": true,
     "schema_version": 3,
     "solution": false,
     "task": false
    }
   },
   "source": [
    "# <span style=\"color:blue\">Task 7</span>"
   ]
  },
  {
   "cell_type": "markdown",
   "metadata": {
    "deletable": false,
    "editable": false,
    "nbgrader": {
     "cell_type": "markdown",
     "checksum": "a2d46e3aeaa76776a2ced2d685eb7a59",
     "grade": false,
     "grade_id": "cell-a6e3f09511d5e4b2",
     "locked": true,
     "schema_version": 3,
     "solution": false,
     "task": false
    }
   },
   "source": [
    "Similar to the `a_gradient_ridge` function you previously wrote, write a function ```a_gradient_lasso``` that computes the lasso-regularized loss sub-gradient with respect to the weights vector and takes the following arguments:\n",
    "\n",
    "1. `x_batch`: A numpy array with the shape $(N, d)$, where $d$ is the number of features and $N$ is the batch size. \n",
    "2. `y_batch`: A numpy array with the shape $(N, 1)$, where $N$ is the batch size. \n",
    "3. `e_batch`: A numpy array with the shape $(N, 1)$, where $N$ is the batch size. This is the output of the `e_term` function you wrote previously, and its $k^{(th)}$ element is $e_k= 1- y_k (a\\cdot x^{(k)}+b)$.\n",
    "4. `a`: A numpy array with the shape $(d, 1)$, where $d$ is the number of features. This is the weight vector.\n",
    "5. `lam`: A scalar representing the regularization coefficient $\\lambda$. \n",
    "    \n",
    "    * Do not assume anything about the values of $N, d$; they could be anything in the test cases.\n",
    "    \n",
    "`a_gradient_lasso` should return the numpy array `grad_a` whose shape is $(d,1)$ and is defined as $\\nabla_a l := \\lambda \\nabla_a \\|a\\|_1^1 + \\frac{1}{N}\\sum_{i=1}^{N} \\nabla_a \\max(0, 1- y_i (a\\cdot x^{(i)}+b))$. \n",
    "\n",
    "* It's fairly easy to compute the lasso sub-gradient:\n",
    "\n",
    "$$\\frac{\\partial}{\\partial a_k}  \\|a\\|_1^1 = \\frac{\\partial}{\\partial a_k} \\sum_{j=1}^{d} |a_j| = \\frac{\\partial}{\\partial a_k} |a_k| = \\text{sign}(a_k)$$\n",
    "\n",
    ", where the scalar sign function is defined as\n",
    "\n",
    "$$ \\text{sign}(a_k) := \\begin{cases} 1 & a_k > 0 \\\\  -1 & a_k < 0 \\\\ 0 & a_k = 0 \\end{cases}$$  \n",
    "\n",
    "Now, remember that the gradients are essentially partial derivative vectors for each dimension. Therefore, you can define the sub-gradient as \n",
    "\n",
    "$$ \\nabla_a \\|a\\|_1^1 = = \\begin{bmatrix}\\frac{\\partial}{\\partial a_1}  \\|a\\|_1^1\\\\ \\frac{\\partial}{\\partial a_2}  \\|a\\|_1^1\\\\ \\cdots \\\\ \\frac{\\partial}{\\partial a_d}  \\|a\\|_1^1 \\end{bmatrix} = \\begin{bmatrix}\\text{sign}(a_1)\\\\ \\text{sign}(a_2)\\\\ \\cdots \\\\\\text{sign}(a_d) \\end{bmatrix} = \\text{sign}(a)$$\n",
    "\n",
    "It's worth mentioning that the absolute value function's derivative at zero is undefined, and this is why our calculation isn't exactly reporting the gradient (instead we call it a sub-gradient to make this subtle distinction). We actually made an assumption of convenience that at $a_k=0$ the lasso-derivative is zero.\n",
    "\n",
    "* **Important Note**: To be consistent, be careful about the inequality operators and make sure you are following the textbook; $\\geq$ is different from $>$. \n",
    "\n",
    "It may be a good thought exercise to implement this function without utilizing `for` loops. In fact, it's easier, more efficient, and possible in a single line."
   ]
  },
  {
   "cell_type": "code",
   "execution_count": 74,
   "metadata": {
    "deletable": false,
    "nbgrader": {
     "cell_type": "code",
     "checksum": "04b684219b05c38553c1732483218b90",
     "grade": false,
     "grade_id": "cell-b7b35d05c7ae9d58",
     "locked": false,
     "schema_version": 3,
     "solution": true,
     "task": false
    }
   },
   "outputs": [],
   "source": [
    "def a_gradient_lasso(x_batch, y_batch, e_batch, a, lam):\n",
    "    \"\"\"\n",
    "    Computes the lasso-regularized loss sub-gradient w.r.t the weights vector\n",
    "    \n",
    "    Parameters\n",
    "    ----------\n",
    "    x_batch: A numpy array with the shape (N, d), where d is the number of features and N is the batch size.\n",
    "    y_batch: A numpy array with the shape (N, 1), where N is the batch size.\n",
    "    e_batch: A numpy array with the shape (N, 1), where N is the batch size. This is the output of the e_term function you wrote previously, and its kth element is e_k = 1 − y_k(a*x_k+b).\n",
    "    a: A numpy array with the shape (d, 1), where d is the number of features. This is the weight vector.\n",
    "    lam: A scalar representing the regularization coefficient 𝜆.\n",
    "    \n",
    "    Returns\n",
    "    -------\n",
    "    grad_a: A numpy array with shape (d, 1) and defined as the gradient of the lasso-regularized loss function w.r.t the weights vector. \n",
    "    \"\"\"\n",
    "    \n",
    "    # YOUR CODE HERE\n",
    "    grad_a = lam*np.sign(a) + np.mean(np.where(e_batch < 0, 0, -y_batch*x_batch), axis = 0)\n",
    "    \n",
    "    return grad_a.diagonal().reshape((x_batch.shape[1], 1))"
   ]
  },
  {
   "cell_type": "code",
   "execution_count": 75,
   "metadata": {
    "deletable": false,
    "editable": false,
    "nbgrader": {
     "cell_type": "code",
     "checksum": "11abd8aafb73e9477d0bc6a6b4cb9a1d",
     "grade": false,
     "grade_id": "cell-54b6a443bab58c83",
     "locked": true,
     "schema_version": 3,
     "solution": false,
     "task": false
    }
   },
   "outputs": [],
   "source": [
    "# Performing sanity checks on your implementation\n",
    "x_batch_ = ((np.arange(35).reshape(5,7) ** 13) % 20) / 7.\n",
    "y_batch_ = (2. * (np.arange(5)>2) - 1.).reshape(-1,1)\n",
    "a_ = (np.arange(7)* 0.2).reshape(-1,1)\n",
    "b_ = 0.1\n",
    "lam_ = 10.\n",
    "e_batch_ = e_term(x_batch_, y_batch_, a_, b_)\n",
    "\n",
    "grad_a_lasso_ = a_gradient_lasso(x_batch_, y_batch_, e_batch_, a_, lam_)\n",
    "\n",
    "assert np.array_equal(grad_a_lasso_.round(3), np.array([[ 0.314], [10.686], [11.057],[10.571], [10.657], [11.029], [10.829]]))\n",
    "\n",
    "# Checking against the pre-computed test database\n",
    "test_results = test_case_checker(a_gradient_lasso, task_id=7)\n",
    "assert test_results['passed'], test_results['message']"
   ]
  },
  {
   "cell_type": "code",
   "execution_count": 76,
   "metadata": {
    "deletable": false,
    "editable": false,
    "nbgrader": {
     "cell_type": "code",
     "checksum": "ba4bb5a851478247a2e2422038f33093",
     "grade": true,
     "grade_id": "cell-b7073c88cc86cbc4",
     "locked": true,
     "points": 1,
     "schema_version": 3,
     "solution": false,
     "task": false
    }
   },
   "outputs": [],
   "source": [
    "# Task 7 Test Cell\n"
   ]
  },
  {
   "cell_type": "markdown",
   "metadata": {
    "deletable": false,
    "editable": false,
    "nbgrader": {
     "cell_type": "markdown",
     "checksum": "6a0364a1a510a666c30bb780aaf20ebb",
     "grade": false,
     "grade_id": "cell-587868fce030b5b7",
     "locked": true,
     "schema_version": 3,
     "solution": false,
     "task": false
    }
   },
   "source": [
    "## 1.3 Training the Support Vector Machine"
   ]
  },
  {
   "cell_type": "code",
   "execution_count": 77,
   "metadata": {
    "deletable": false,
    "editable": false,
    "nbgrader": {
     "cell_type": "code",
     "checksum": "14f273612895140edc997f8d020e972d",
     "grade": false,
     "grade_id": "cell-0a5d41de842c3ccc",
     "locked": true,
     "schema_version": 3,
     "solution": false,
     "task": false
    }
   },
   "outputs": [],
   "source": [
    "def get_acc(a, b, feats_nomalized, labels):\n",
    "    pred = (feats_nomalized @ a + b) >= 0.\n",
    "    pred = 2 * pred - 1\n",
    "    acc = (pred.reshape(-1) == labels.reshape(-1)).mean()\n",
    "    return acc\n",
    "\n",
    "def svm_trainer(train_features, train_labels, val_features, val_labels, heldout_size=50,\n",
    "                batch_size=1, num_epochs=100, num_steps=300, eval_interval = 30, \n",
    "                lambda_list=[1e-3, 1e-2, 1e-1, 2e-1], eta_tuner=lambda epoch: 1./(0.01 * epoch + 500.),\n",
    "                regularization = 'ridge'):\n",
    "\n",
    "    train_features_normalized = normalize_feats(train_features, train_features)\n",
    "    val_features_normalized = normalize_feats(train_features, val_features)\n",
    "\n",
    "    np_random = np.random.RandomState(12345)\n",
    "    if regularization == 'ridge':\n",
    "        a_gradient = a_gradient_ridge\n",
    "        loss_terms = loss_terms_ridge\n",
    "    elif regularization == 'lasso':\n",
    "        a_gradient = a_gradient_lasso\n",
    "        loss_terms = loss_terms_lasso\n",
    "    else:\n",
    "        raise Exception(f'Unknown regularization {regularization}')\n",
    "    \n",
    "    train_progress = np.arange(0., num_epochs, eval_interval/num_steps)\n",
    "    heldout_accs = np.zeros((len(lambda_list), train_progress.size))\n",
    "    weight_magnitudes = np.zeros((len(lambda_list), train_progress.size))\n",
    "    hinge_losses = np.zeros((len(lambda_list), train_progress.size))\n",
    "    reg_losses = np.zeros((len(lambda_list), train_progress.size))\n",
    "    val_accs = np.zeros(len(lambda_list))\n",
    "\n",
    "    all_a = np.zeros((len(lambda_list), train_features_normalized.shape[1]))\n",
    "    all_b = np.zeros(len(lambda_list))\n",
    "\n",
    "    for lam_idx, lam in enumerate(lambda_list):\n",
    "        a = np.zeros((train_features_normalized.shape[1], 1))\n",
    "        b = 0.\n",
    "\n",
    "        eval_idx = 0\n",
    "        for epoch in range(num_epochs):\n",
    "            eta = eta_tuner(epoch)\n",
    "\n",
    "            # Picking the heldout indices\n",
    "            # We will avoid the use of np_random.choice due to performance reasons\n",
    "            heldout_size = min(heldout_size, train_features_normalized.shape[0]//2)\n",
    "            \n",
    "            heldout_indicator = np.arange(train_features_normalized.shape[0]) < heldout_size\n",
    "            np_random.shuffle(heldout_indicator)\n",
    "\n",
    "            heldout_feats = train_features_normalized[heldout_indicator,:]\n",
    "            heldout_labels = train_labels[heldout_indicator]\n",
    "\n",
    "            non_heldout_feats = train_features_normalized[heldout_indicator==False,:]\n",
    "            non_heldout_labels = train_labels[heldout_indicator==False]\n",
    "            \n",
    "            batch_size = min(batch_size, non_heldout_feats.shape[0])\n",
    "\n",
    "            for step in range(num_steps):\n",
    "                rand_unifs = np_random.uniform(0, 1, size=non_heldout_feats.shape[0])\n",
    "                batch_thresh = np.percentile(rand_unifs, 100. * batch_size / non_heldout_feats.shape[0])\n",
    "                batch_indices = (rand_unifs<=batch_thresh)\n",
    "                x_batch = non_heldout_feats[batch_indices,:]\n",
    "                y_batch = non_heldout_labels[batch_indices].reshape(-1,1)\n",
    "\n",
    "                e_batch = e_term(x_batch, y_batch, a, b)\n",
    "                hinge_loss, reg_loss = loss_terms(e_batch, a, lam)\n",
    "                grad_a = a_gradient(x_batch, y_batch, e_batch, a, lam)\n",
    "                grad_b = b_derivative(y_batch, e_batch)\n",
    "\n",
    "                if step % eval_interval == 0:\n",
    "                    heldout_acc = get_acc(a, b, heldout_feats, heldout_labels)\n",
    "                    heldout_accs[lam_idx, eval_idx] = heldout_acc\n",
    "                    if regularization == 'ridge':\n",
    "                        weight_magnitudes[lam_idx, eval_idx] = np.sum(a**2)\n",
    "                    elif regularization == 'lasso':\n",
    "                        weight_magnitudes[lam_idx, eval_idx] = np.sum(np.abs(a))\n",
    "                    hinge_losses[lam_idx, eval_idx] = hinge_loss\n",
    "                    reg_losses[lam_idx, eval_idx] = reg_loss\n",
    "                    eval_idx += 1\n",
    "                    if step % (5 * eval_interval) == 0:\n",
    "                        print('.', end='')\n",
    "\n",
    "                a = a - eta * grad_a\n",
    "                b = b - eta * grad_b\n",
    "        \n",
    "        val_acc = get_acc(a, b, val_features_normalized, val_labels)\n",
    "        val_accs[lam_idx] = val_acc\n",
    "        all_a[lam_idx, :] = a.reshape(-1)\n",
    "        all_b[lam_idx] = b\n",
    "        print((f'\\nlambda={lam} yielded a validation accuracy of %.3f '%(100. * val_acc)) + '%') \n",
    "        \n",
    "    return_dict = dict(all_a=all_a, all_b=all_b, train_progress=train_progress, regularization=regularization,\n",
    "                       train_features=train_features, train_labels=train_labels, \n",
    "                       val_features=val_features, val_labels=val_labels,\n",
    "                       lambda_list=lambda_list, val_accs=val_accs, hinge_losses=hinge_losses,\n",
    "                       weight_magnitudes=weight_magnitudes, heldout_accs=heldout_accs)\n",
    "    return return_dict\n",
    "\n",
    "def get_test_accuracy(test_features, test_labels, training_info):\n",
    "    train_features = training_info['train_features']\n",
    "    val_accs = training_info['val_accs']\n",
    "    all_a = training_info['all_a']\n",
    "    all_b = training_info['all_b']\n",
    "    lambda_list = training_info['lambda_list']\n",
    "    test_features_normalized = normalize_feats(train_features, test_features)\n",
    "    best_lam_idx = np.argmax(val_accs)\n",
    "    best_a = all_a[best_lam_idx, :].reshape(-1,1)\n",
    "    best_b = all_b[best_lam_idx]\n",
    "    test_acc = get_acc(best_a, best_b, test_features_normalized, test_labels)\n",
    "    print(f'Best lambda was chosen to be {lambda_list[best_lam_idx]}')\n",
    "    print((f'The resulting test accuracy was %.3f '%(100. * test_acc)) + '%')\n",
    "\n",
    "def print_weights(training_info, rounding=20):\n",
    "    import warnings\n",
    "    warnings.simplefilter(action='ignore', category=FutureWarning)\n",
    "    pd.set_option(\"display.precision\", rounding)\n",
    "    print('Here are the learned weights for each regularization coefficient:')\n",
    "    print('  * Each row represents a single regularization coefficient.')\n",
    "    print('  * The last two columns represent the weight vector magnitudes.')\n",
    "    print('  * Each of the other columns represent a feature weight. ')\n",
    "    all_a = training_info['all_a']\n",
    "    lambda_list = training_info['lambda_list']\n",
    "    all_a_rounded = all_a.round(rounding)\n",
    "    w_df = pd.DataFrame(all_a_rounded, columns=['$a_{%d}$'%(col+1) for col in range(all_a.shape[1])])\n",
    "    \n",
    "    if all_a.shape[1] > 7:\n",
    "        w_df = w_df.drop(w_df.columns[8:(all_a.shape[1]-3)], axis=1)\n",
    "        w_df.insert(8, '$\\cdots$', ['$\\cdots$' for _ in lambda_list])\n",
    "        \n",
    "    w_df.insert(0, '$\\lambda$', lambda_list)\n",
    "    w_df['$\\|a\\|_2^2$'] = np.sum(all_a**2, axis=1).round(rounding)\n",
    "    w_df['$\\|a\\|_1^1$'] = np.sum(np.abs(all_a), axis=1).round(rounding)\n",
    "    max_l_norm = w_df[['$\\|a\\|_2^2$', '$\\|a\\|_1^1$']].values.max(axis=1)\n",
    "    w_df.reset_index(drop=True, inplace=True)\n",
    "    w_df = w_df.set_index('$\\lambda$')  \n",
    "    w_df_style = w_df.style.apply(lambda x: ['font-weight: bold' if v in max_l_norm else '' for v in x])\n",
    "    return w_df_style"
   ]
  },
  {
   "cell_type": "markdown",
   "metadata": {
    "deletable": false,
    "editable": false,
    "nbgrader": {
     "cell_type": "markdown",
     "checksum": "6dcb4ce4fded0457697949a5d71e2294",
     "grade": false,
     "grade_id": "cell-a8a2010e0b08a702",
     "locked": true,
     "schema_version": 3,
     "solution": false,
     "task": false
    }
   },
   "source": [
    "## 1.4 Training Plots"
   ]
  },
  {
   "cell_type": "code",
   "execution_count": 78,
   "metadata": {
    "deletable": false,
    "editable": false,
    "nbgrader": {
     "cell_type": "code",
     "checksum": "4b20989b0b0c90c61c2d91e650f38b85",
     "grade": false,
     "grade_id": "cell-6de0331ebc49a754",
     "locked": true,
     "schema_version": 3,
     "solution": false,
     "task": false
    }
   },
   "outputs": [],
   "source": [
    "def ema(vec, alpha=0.99):\n",
    "    # Exponential Moving Average Filter\n",
    "    # This filter is useful for smoothing noisy training statistics such as the (stochastic) loss.\n",
    "    # alpha is the smoothing factor; larger smoothing factors can remove more noise, \n",
    "    # but will induce more delay when following the original signal.\n",
    "    out = [vec[0]]\n",
    "    last_val = vec[0]\n",
    "    for val in vec[1:]:\n",
    "        last_val = val*(1-alpha) + alpha*last_val\n",
    "        out.append(last_val)\n",
    "    return np.array(out)\n",
    "    \n",
    "def generate_plots(training_info, heldout_acc_smoothing=0.99, loss_smoothing=0.99, weight_smoothing=0.99):\n",
    "    assert 0 <= heldout_acc_smoothing < 1\n",
    "    assert 0 <= loss_smoothing < 1\n",
    "    assert 0 <= weight_smoothing < 1\n",
    "    all_a = training_info['all_a']\n",
    "    all_b = training_info['all_b']\n",
    "    train_progress = training_info['train_progress']\n",
    "    lambda_list = training_info['lambda_list']\n",
    "    val_accs = training_info['val_accs']\n",
    "    hinge_losses = training_info['hinge_losses']\n",
    "    weight_magnitudes = training_info['weight_magnitudes']\n",
    "    heldout_accs = training_info['heldout_accs']\n",
    "    regularization = training_info['regularization']\n",
    "    \n",
    "    fig, axes = plt.subplots(2, 2, figsize=(12,10), dpi=90)\n",
    "    ax = axes[0,0]\n",
    "    for lam_idx, lam in enumerate(lambda_list):\n",
    "        ax.plot(train_progress, ema(weight_magnitudes[lam_idx,:], weight_smoothing), label=f'lambda={lam}')\n",
    "    ax.set_xlabel('Epoch')\n",
    "    ax.set_ylabel('Weight Magnitude')\n",
    "    if weight_smoothing:\n",
    "        ax.set_title('(Moving Average of) Weight Magnitudes During Training')\n",
    "    else:\n",
    "        ax.set_title('Weight Magnitudes During Training')\n",
    "    \n",
    "    ax.legend()\n",
    "\n",
    "    ax = axes[0,1]\n",
    "    for lam_idx, lam in enumerate(lambda_list):\n",
    "        ax.plot(train_progress, ema(heldout_accs[lam_idx,:], heldout_acc_smoothing), label=f'lambda={lam}')\n",
    "    ax.set_xlabel('Epoch')\n",
    "    ax.set_ylabel('Held-out Accuracy')\n",
    "    if heldout_acc_smoothing:\n",
    "        ax.set_title('(Moving Average of) Held-out Accuracy During Training')\n",
    "    else:\n",
    "        ax.set_title('Held-out Accuracy During Training')\n",
    "    _ = ax.legend()\n",
    "    \n",
    "    ax = axes[1,0]\n",
    "    ax.plot(lambda_list, val_accs)\n",
    "    ax.set_xscale('log')\n",
    "    ax.set_xlabel('Regularization coefficient')\n",
    "    ax.set_ylabel('Validation Accuracy')\n",
    "    _ = ax.set_title('Validation Accuracy')\n",
    "    \n",
    "    ax = axes[1,1]\n",
    "    for lam_idx, lam in enumerate(lambda_list):\n",
    "        ax.plot(train_progress, ema(hinge_losses[lam_idx,:], loss_smoothing), label=f'lambda={lam}')\n",
    "    ax.set_xlabel('Epoch')\n",
    "    ax.set_ylabel('Loss')\n",
    "    if loss_smoothing:\n",
    "        ax.set_title('(Moving Average of) Hinge Loss During Training')\n",
    "    else:\n",
    "        ax.set_title('Hinge Loss During Training')\n",
    "    _ = ax.legend()"
   ]
  },
  {
   "cell_type": "markdown",
   "metadata": {
    "deletable": false,
    "editable": false,
    "nbgrader": {
     "cell_type": "markdown",
     "checksum": "bf863f1b26eb9db929e7f08554aeef05",
     "grade": false,
     "grade_id": "cell-f86009523669c4d2",
     "locked": true,
     "schema_version": 3,
     "solution": false,
     "task": false
    }
   },
   "source": [
    "# 2. Bank Note Authentication Problem"
   ]
  },
  {
   "cell_type": "markdown",
   "metadata": {
    "deletable": false,
    "editable": false,
    "nbgrader": {
     "cell_type": "markdown",
     "checksum": "687de80d94b74deaddc865b61da811a4",
     "grade": false,
     "grade_id": "cell-29365f1c7c3dfa79",
     "locked": true,
     "schema_version": 3,
     "solution": false,
     "task": false
    }
   },
   "source": [
    "## 2.1 Description"
   ]
  },
  {
   "cell_type": "markdown",
   "metadata": {
    "deletable": false,
    "editable": false,
    "nbgrader": {
     "cell_type": "markdown",
     "checksum": "e983b1a48c9dda0b34baa4cd453df867",
     "grade": false,
     "grade_id": "cell-11b36933b3f3a192",
     "locked": true,
     "schema_version": 3,
     "solution": false,
     "task": false
    }
   },
   "source": [
    "The UC Irvine Machine Learning Data Repository hosts a collection on banknote authentication, donated by Volker Lohweg and Helene Doerksen at http://archive.ics.uci.edu/ml/datasets/banknote+authentication ."
   ]
  },
  {
   "cell_type": "markdown",
   "metadata": {
    "deletable": false,
    "editable": false,
    "nbgrader": {
     "cell_type": "markdown",
     "checksum": "aa853a2593659cc86a22bdfbf3c194d1",
     "grade": false,
     "grade_id": "cell-e0ce41c423f2208b",
     "locked": true,
     "schema_version": 3,
     "solution": false,
     "task": false
    }
   },
   "source": [
    "## 2.2 Information Summary"
   ]
  },
  {
   "cell_type": "markdown",
   "metadata": {
    "deletable": false,
    "editable": false,
    "nbgrader": {
     "cell_type": "markdown",
     "checksum": "a2a584be266a16930e5dcb2991907ac8",
     "grade": false,
     "grade_id": "cell-82fa57f2291c9173",
     "locked": true,
     "schema_version": 3,
     "solution": false,
     "task": false
    }
   },
   "source": [
    "* **Input/Output**: This data has a set of 4 attributes; the variance, the skewness, and the curtosis of Wavelet Transformed image along with the entropy of the image. The last column indicates whether the image was taken from a genuine or a forged banknote, and acts as a binary label.\n",
    "\n",
    "* **Missing Data**: There are no missing data points.\n",
    "\n",
    "* **Final Goal**: We want to build an SVM classifier that can predict whether a note is authentic or not."
   ]
  },
  {
   "cell_type": "markdown",
   "metadata": {
    "deletable": false,
    "editable": false,
    "nbgrader": {
     "cell_type": "markdown",
     "checksum": "febc9e05fce08a735eed8836aff6a727",
     "grade": false,
     "grade_id": "cell-f048e20112369a59",
     "locked": true,
     "schema_version": 3,
     "solution": false,
     "task": false
    }
   },
   "source": [
    "## 2.3 Loading"
   ]
  },
  {
   "cell_type": "code",
   "execution_count": 79,
   "metadata": {
    "deletable": false,
    "editable": false,
    "nbgrader": {
     "cell_type": "code",
     "checksum": "6dcadacaaa521860b568881b346b61ea",
     "grade": false,
     "grade_id": "cell-3243873bcb38d035",
     "locked": true,
     "schema_version": 3,
     "solution": false,
     "task": false
    }
   },
   "outputs": [],
   "source": [
    "df_raw = pd.read_csv('data/data_banknote_authentication.txt', \n",
    "                     names=['variance', 'skewness', 'curtosis', 'entropy', 'class'], \n",
    "                     header=None)"
   ]
  },
  {
   "cell_type": "code",
   "execution_count": 80,
   "metadata": {
    "deletable": false,
    "editable": false,
    "nbgrader": {
     "cell_type": "code",
     "checksum": "a3ce214017c95f7b197571f77344af63",
     "grade": false,
     "grade_id": "cell-8110d104a8cbb52f",
     "locked": true,
     "schema_version": 3,
     "solution": false,
     "task": false
    }
   },
   "outputs": [
    {
     "data": {
      "text/html": [
       "<div>\n",
       "<style scoped>\n",
       "    .dataframe tbody tr th:only-of-type {\n",
       "        vertical-align: middle;\n",
       "    }\n",
       "\n",
       "    .dataframe tbody tr th {\n",
       "        vertical-align: top;\n",
       "    }\n",
       "\n",
       "    .dataframe thead th {\n",
       "        text-align: right;\n",
       "    }\n",
       "</style>\n",
       "<table border=\"1\" class=\"dataframe\">\n",
       "  <thead>\n",
       "    <tr style=\"text-align: right;\">\n",
       "      <th></th>\n",
       "      <th>variance</th>\n",
       "      <th>skewness</th>\n",
       "      <th>curtosis</th>\n",
       "      <th>entropy</th>\n",
       "      <th>class</th>\n",
       "    </tr>\n",
       "  </thead>\n",
       "  <tbody>\n",
       "    <tr>\n",
       "      <th>0</th>\n",
       "      <td>3.6216</td>\n",
       "      <td>8.6661</td>\n",
       "      <td>-2.8073</td>\n",
       "      <td>-0.4470</td>\n",
       "      <td>0</td>\n",
       "    </tr>\n",
       "    <tr>\n",
       "      <th>1</th>\n",
       "      <td>4.5459</td>\n",
       "      <td>8.1674</td>\n",
       "      <td>-2.4586</td>\n",
       "      <td>-1.4621</td>\n",
       "      <td>0</td>\n",
       "    </tr>\n",
       "    <tr>\n",
       "      <th>2</th>\n",
       "      <td>3.8660</td>\n",
       "      <td>-2.6383</td>\n",
       "      <td>1.9242</td>\n",
       "      <td>0.1065</td>\n",
       "      <td>0</td>\n",
       "    </tr>\n",
       "    <tr>\n",
       "      <th>3</th>\n",
       "      <td>3.4566</td>\n",
       "      <td>9.5228</td>\n",
       "      <td>-4.0112</td>\n",
       "      <td>-3.5944</td>\n",
       "      <td>0</td>\n",
       "    </tr>\n",
       "    <tr>\n",
       "      <th>4</th>\n",
       "      <td>0.3292</td>\n",
       "      <td>-4.4552</td>\n",
       "      <td>4.5718</td>\n",
       "      <td>-0.9888</td>\n",
       "      <td>0</td>\n",
       "    </tr>\n",
       "  </tbody>\n",
       "</table>\n",
       "</div>"
      ],
      "text/plain": [
       "   variance  skewness  curtosis  entropy  class\n",
       "0    3.6216    8.6661   -2.8073  -0.4470      0\n",
       "1    4.5459    8.1674   -2.4586  -1.4621      0\n",
       "2    3.8660   -2.6383    1.9242   0.1065      0\n",
       "3    3.4566    9.5228   -4.0112  -3.5944      0\n",
       "4    0.3292   -4.4552    4.5718  -0.9888      0"
      ]
     },
     "execution_count": 80,
     "metadata": {},
     "output_type": "execute_result"
    }
   ],
   "source": [
    "df_raw.head()"
   ]
  },
  {
   "cell_type": "code",
   "execution_count": 81,
   "metadata": {
    "deletable": false,
    "editable": false,
    "nbgrader": {
     "cell_type": "code",
     "checksum": "abe77bd4b11afa1d31cae2cf2e1b9875",
     "grade": false,
     "grade_id": "cell-02dcf90ef40bdc57",
     "locked": true,
     "schema_version": 3,
     "solution": false,
     "task": false
    }
   },
   "outputs": [
    {
     "data": {
      "text/html": [
       "<div>\n",
       "<style scoped>\n",
       "    .dataframe tbody tr th:only-of-type {\n",
       "        vertical-align: middle;\n",
       "    }\n",
       "\n",
       "    .dataframe tbody tr th {\n",
       "        vertical-align: top;\n",
       "    }\n",
       "\n",
       "    .dataframe thead th {\n",
       "        text-align: right;\n",
       "    }\n",
       "</style>\n",
       "<table border=\"1\" class=\"dataframe\">\n",
       "  <thead>\n",
       "    <tr style=\"text-align: right;\">\n",
       "      <th></th>\n",
       "      <th>variance</th>\n",
       "      <th>skewness</th>\n",
       "      <th>curtosis</th>\n",
       "      <th>entropy</th>\n",
       "      <th>class</th>\n",
       "    </tr>\n",
       "  </thead>\n",
       "  <tbody>\n",
       "    <tr>\n",
       "      <th>count</th>\n",
       "      <td>1372.0000</td>\n",
       "      <td>1372.0000</td>\n",
       "      <td>1372.0000</td>\n",
       "      <td>1372.0000</td>\n",
       "      <td>1372.0000</td>\n",
       "    </tr>\n",
       "    <tr>\n",
       "      <th>mean</th>\n",
       "      <td>0.4337</td>\n",
       "      <td>1.9224</td>\n",
       "      <td>1.3976</td>\n",
       "      <td>-1.1917</td>\n",
       "      <td>0.4446</td>\n",
       "    </tr>\n",
       "    <tr>\n",
       "      <th>std</th>\n",
       "      <td>2.8428</td>\n",
       "      <td>5.8690</td>\n",
       "      <td>4.3100</td>\n",
       "      <td>2.1010</td>\n",
       "      <td>0.4971</td>\n",
       "    </tr>\n",
       "    <tr>\n",
       "      <th>min</th>\n",
       "      <td>-7.0421</td>\n",
       "      <td>-13.7731</td>\n",
       "      <td>-5.2861</td>\n",
       "      <td>-8.5482</td>\n",
       "      <td>0.0000</td>\n",
       "    </tr>\n",
       "    <tr>\n",
       "      <th>25%</th>\n",
       "      <td>-1.7730</td>\n",
       "      <td>-1.7082</td>\n",
       "      <td>-1.5750</td>\n",
       "      <td>-2.4135</td>\n",
       "      <td>0.0000</td>\n",
       "    </tr>\n",
       "    <tr>\n",
       "      <th>50%</th>\n",
       "      <td>0.4962</td>\n",
       "      <td>2.3197</td>\n",
       "      <td>0.6166</td>\n",
       "      <td>-0.5867</td>\n",
       "      <td>0.0000</td>\n",
       "    </tr>\n",
       "    <tr>\n",
       "      <th>75%</th>\n",
       "      <td>2.8215</td>\n",
       "      <td>6.8146</td>\n",
       "      <td>3.1792</td>\n",
       "      <td>0.3948</td>\n",
       "      <td>1.0000</td>\n",
       "    </tr>\n",
       "    <tr>\n",
       "      <th>max</th>\n",
       "      <td>6.8248</td>\n",
       "      <td>12.9516</td>\n",
       "      <td>17.9274</td>\n",
       "      <td>2.4495</td>\n",
       "      <td>1.0000</td>\n",
       "    </tr>\n",
       "  </tbody>\n",
       "</table>\n",
       "</div>"
      ],
      "text/plain": [
       "        variance   skewness   curtosis    entropy      class\n",
       "count  1372.0000  1372.0000  1372.0000  1372.0000  1372.0000\n",
       "mean      0.4337     1.9224     1.3976    -1.1917     0.4446\n",
       "std       2.8428     5.8690     4.3100     2.1010     0.4971\n",
       "min      -7.0421   -13.7731    -5.2861    -8.5482     0.0000\n",
       "25%      -1.7730    -1.7082    -1.5750    -2.4135     0.0000\n",
       "50%       0.4962     2.3197     0.6166    -0.5867     0.0000\n",
       "75%       2.8215     6.8146     3.1792     0.3948     1.0000\n",
       "max       6.8248    12.9516    17.9274     2.4495     1.0000"
      ]
     },
     "execution_count": 81,
     "metadata": {},
     "output_type": "execute_result"
    }
   ],
   "source": [
    "df_raw.describe()"
   ]
  },
  {
   "cell_type": "markdown",
   "metadata": {
    "deletable": false,
    "editable": false,
    "nbgrader": {
     "cell_type": "markdown",
     "checksum": "28901ad2f87cd8098ac22c51138a2852",
     "grade": false,
     "grade_id": "cell-308cc17596543c4c",
     "locked": true,
     "schema_version": 3,
     "solution": false,
     "task": false
    }
   },
   "source": [
    "## 2.4 Pre-processing"
   ]
  },
  {
   "cell_type": "code",
   "execution_count": 82,
   "metadata": {
    "deletable": false,
    "editable": false,
    "nbgrader": {
     "cell_type": "code",
     "checksum": "d06d204838054f5996f65ed0c3b7c437",
     "grade": false,
     "grade_id": "cell-d5f3225510234502",
     "locked": true,
     "schema_version": 3,
     "solution": false,
     "task": false
    }
   },
   "outputs": [
    {
     "data": {
      "text/html": [
       "<div>\n",
       "<style scoped>\n",
       "    .dataframe tbody tr th:only-of-type {\n",
       "        vertical-align: middle;\n",
       "    }\n",
       "\n",
       "    .dataframe tbody tr th {\n",
       "        vertical-align: top;\n",
       "    }\n",
       "\n",
       "    .dataframe thead th {\n",
       "        text-align: right;\n",
       "    }\n",
       "</style>\n",
       "<table border=\"1\" class=\"dataframe\">\n",
       "  <thead>\n",
       "    <tr style=\"text-align: right;\">\n",
       "      <th></th>\n",
       "      <th>variance</th>\n",
       "      <th>skewness</th>\n",
       "      <th>curtosis</th>\n",
       "      <th>entropy</th>\n",
       "      <th>class</th>\n",
       "    </tr>\n",
       "  </thead>\n",
       "  <tbody>\n",
       "    <tr>\n",
       "      <th>0</th>\n",
       "      <td>3.6216</td>\n",
       "      <td>8.6661</td>\n",
       "      <td>-2.8073</td>\n",
       "      <td>-0.4470</td>\n",
       "      <td>-1.0</td>\n",
       "    </tr>\n",
       "    <tr>\n",
       "      <th>1</th>\n",
       "      <td>4.5459</td>\n",
       "      <td>8.1674</td>\n",
       "      <td>-2.4586</td>\n",
       "      <td>-1.4621</td>\n",
       "      <td>-1.0</td>\n",
       "    </tr>\n",
       "    <tr>\n",
       "      <th>2</th>\n",
       "      <td>3.8660</td>\n",
       "      <td>-2.6383</td>\n",
       "      <td>1.9242</td>\n",
       "      <td>0.1065</td>\n",
       "      <td>-1.0</td>\n",
       "    </tr>\n",
       "    <tr>\n",
       "      <th>3</th>\n",
       "      <td>3.4566</td>\n",
       "      <td>9.5228</td>\n",
       "      <td>-4.0112</td>\n",
       "      <td>-3.5944</td>\n",
       "      <td>-1.0</td>\n",
       "    </tr>\n",
       "    <tr>\n",
       "      <th>4</th>\n",
       "      <td>0.3292</td>\n",
       "      <td>-4.4552</td>\n",
       "      <td>4.5718</td>\n",
       "      <td>-0.9888</td>\n",
       "      <td>-1.0</td>\n",
       "    </tr>\n",
       "  </tbody>\n",
       "</table>\n",
       "</div>"
      ],
      "text/plain": [
       "   variance  skewness  curtosis  entropy  class\n",
       "0    3.6216    8.6661   -2.8073  -0.4470   -1.0\n",
       "1    4.5459    8.1674   -2.4586  -1.4621   -1.0\n",
       "2    3.8660   -2.6383    1.9242   0.1065   -1.0\n",
       "3    3.4566    9.5228   -4.0112  -3.5944   -1.0\n",
       "4    0.3292   -4.4552    4.5718  -0.9888   -1.0"
      ]
     },
     "execution_count": 82,
     "metadata": {},
     "output_type": "execute_result"
    }
   ],
   "source": [
    "df = df_raw.copy(deep=True)\n",
    "df = df.dropna()\n",
    "\n",
    "label_col_name = 'class'\n",
    "feature_col_names = [col for col in df_raw.columns.tolist() if col!=label_col_name]\n",
    "\n",
    "class_names = df[label_col_name].unique().tolist()\n",
    "assert len(class_names) == 2\n",
    "df[label_col_name] = 2. * np.array([class_names.index(x) for x in df[label_col_name]]) - 1.\n",
    "\n",
    "df.head()"
   ]
  },
  {
   "cell_type": "markdown",
   "metadata": {
    "deletable": false,
    "editable": false,
    "nbgrader": {
     "cell_type": "markdown",
     "checksum": "65bfcf8125fa736c0af4594cc14d19c9",
     "grade": false,
     "grade_id": "cell-b17f55aeb9254dd3",
     "locked": true,
     "schema_version": 3,
     "solution": false,
     "task": false
    }
   },
   "source": [
    "## 2.5 Splitting the data"
   ]
  },
  {
   "cell_type": "code",
   "execution_count": 83,
   "metadata": {
    "deletable": false,
    "editable": false,
    "nbgrader": {
     "cell_type": "code",
     "checksum": "282a5a315688964fa4d8efd6eba943cf",
     "grade": false,
     "grade_id": "cell-b3d077da4dd539c5",
     "locked": true,
     "schema_version": 3,
     "solution": false,
     "task": false
    }
   },
   "outputs": [],
   "source": [
    "np_random = np.random.RandomState(12345)\n",
    "# Splitting the data\n",
    "df_shuffled = df.sample(frac=1, random_state=np_random).reset_index(drop=True)\n",
    "all_features = df_shuffled.loc[:, df_shuffled.columns != label_col_name].values\n",
    "all_labels = df_shuffled[label_col_name].values\n",
    "\n",
    "valid_cols = []\n",
    "for col_idx in range(all_features.shape[1]):\n",
    "    if np.unique(all_features[:,col_idx].reshape(-1)).size > 5:\n",
    "        valid_cols.append(col_idx)\n",
    "all_features = all_features[:, valid_cols]"
   ]
  },
  {
   "cell_type": "code",
   "execution_count": 84,
   "metadata": {
    "deletable": false,
    "editable": false,
    "nbgrader": {
     "cell_type": "code",
     "checksum": "bdafdded0d5885bd0ae2d0a2226ae42a",
     "grade": false,
     "grade_id": "cell-5a1185d9ff9f23da",
     "locked": true,
     "schema_version": 3,
     "solution": false,
     "task": false
    }
   },
   "outputs": [],
   "source": [
    "def train_val_test_split(all_features, all_labels, train_frac=0.4, val_frac=0.3):\n",
    "    assert train_frac + val_frac <= 1\n",
    "    assert train_frac > 0\n",
    "    assert val_frac > 0\n",
    "    train_cnt = int(train_frac * all_features.shape[0])\n",
    "    val_cnt = int(val_frac * all_features.shape[0])\n",
    "    train_features, train_labels = all_features[:train_cnt, :], all_labels[:train_cnt]\n",
    "    val_features, val_labels = all_features[train_cnt:(train_cnt+val_cnt), :], all_labels[train_cnt:(train_cnt+val_cnt)]\n",
    "    test_features, test_labels = all_features[(train_cnt+val_cnt):, :], all_labels[(train_cnt+val_cnt):]\n",
    "    return train_features, train_labels, val_features, val_labels, test_features, test_labels"
   ]
  },
  {
   "cell_type": "code",
   "execution_count": 85,
   "metadata": {
    "deletable": false,
    "editable": false,
    "nbgrader": {
     "cell_type": "code",
     "checksum": "662aad397a82a9fcebfed63dfff56c9d",
     "grade": false,
     "grade_id": "cell-2cd7fb4a33460115",
     "locked": true,
     "schema_version": 3,
     "solution": false,
     "task": false
    }
   },
   "outputs": [
    {
     "data": {
      "text/plain": [
       "((548, 4), (548,), (411, 4), (411,), (413, 4), (413,))"
      ]
     },
     "execution_count": 85,
     "metadata": {},
     "output_type": "execute_result"
    }
   ],
   "source": [
    "splitted_data = train_val_test_split(all_features, all_labels, train_frac=0.4, val_frac=0.3)\n",
    "train_features, train_labels, val_features, val_labels, test_features, test_labels = splitted_data\n",
    "\n",
    "train_features.shape, train_labels.shape, val_features.shape, val_labels.shape, test_features.shape, test_labels.shape"
   ]
  },
  {
   "cell_type": "code",
   "execution_count": 86,
   "metadata": {
    "deletable": false,
    "editable": false,
    "nbgrader": {
     "cell_type": "code",
     "checksum": "138f78ac31ef60d28f91a9026ba4b496",
     "grade": false,
     "grade_id": "cell-55a76db79fa16df2",
     "locked": true,
     "schema_version": 3,
     "solution": false,
     "task": false
    }
   },
   "outputs": [
    {
     "name": "stdout",
     "output_type": "stream",
     "text": [
      "Negative Samples = 762 --> 55.54% of total samples\n",
      "Positive Samples = 610 --> 44.46% of total samples\n"
     ]
    }
   ],
   "source": [
    "print(f'Negative Samples = {np.sum(all_labels==-1)} --> %.2f' %(100 * np.mean(all_labels==-1)) + \"% of total samples\")\n",
    "print(f'Positive Samples = {np.sum(all_labels==1)} --> %.2f' %(100 * np.mean(all_labels==1)) + '% of total samples')"
   ]
  },
  {
   "cell_type": "markdown",
   "metadata": {
    "deletable": false,
    "editable": false,
    "nbgrader": {
     "cell_type": "markdown",
     "checksum": "eb1d978eac675d5c677921c223634b6b",
     "grade": false,
     "grade_id": "cell-c85150f0e4f5bc81",
     "locked": true,
     "schema_version": 3,
     "solution": false,
     "task": false
    }
   },
   "source": [
    "## 2.6 Training and Testing on Plain Data"
   ]
  },
  {
   "cell_type": "markdown",
   "metadata": {
    "deletable": false,
    "editable": false,
    "nbgrader": {
     "cell_type": "markdown",
     "checksum": "759d175652fa8c56bf0f9a7088b6cb00",
     "grade": false,
     "grade_id": "cell-07fbdeff52500246",
     "locked": true,
     "schema_version": 3,
     "solution": false,
     "task": false
    }
   },
   "source": [
    "### 2.6.1 Ridge Regularization"
   ]
  },
  {
   "cell_type": "code",
   "execution_count": 87,
   "metadata": {
    "deletable": false,
    "editable": false,
    "nbgrader": {
     "cell_type": "code",
     "checksum": "ff5434b37f140e589e546b561e76bb72",
     "grade": false,
     "grade_id": "cell-0f0f162bc79eca64",
     "locked": true,
     "schema_version": 3,
     "solution": false,
     "task": false
    }
   },
   "outputs": [
    {
     "name": "stdout",
     "output_type": "stream",
     "text": [
      "....................................................................................................\n",
      "lambda=0.0 yielded a validation accuracy of 98.542 %\n",
      "....................................................................................................\n",
      "lambda=0.001 yielded a validation accuracy of 98.542 %\n",
      "....................................................................................................\n",
      "lambda=0.01 yielded a validation accuracy of 98.542 %\n",
      "....................................................................................................\n",
      "lambda=0.1 yielded a validation accuracy of 97.959 %\n",
      "....................................................................................................\n",
      "lambda=1.0 yielded a validation accuracy of 89.504 %\n"
     ]
    }
   ],
   "source": [
    "if perform_computation:\n",
    "    splitted_data = train_val_test_split(all_features, all_labels, train_frac=0.5, val_frac=0.25)\n",
    "    \n",
    "    # The \"_pr\" variable postfix is short for \"plain ridge\".\n",
    "    train_features_pr, train_labels_pr, val_features_pr, val_labels_pr, test_features_pr, test_labels_pr = splitted_data\n",
    "    \n",
    "    training_info_plain_ridge = svm_trainer(train_features_pr, train_labels_pr, val_features_pr, val_labels_pr, \n",
    "                                            heldout_size=50, batch_size=32, num_epochs=50, num_steps=300, \n",
    "                                            eval_interval = 30, eta_tuner = lambda epoch: 1./(0.01 * epoch + 50.),\n",
    "                                            lambda_list=[0., 1e-3, 1e-2, 1e-1, 1e0], \n",
    "                                            regularization='ridge')"
   ]
  },
  {
   "cell_type": "code",
   "execution_count": 88,
   "metadata": {
    "deletable": false,
    "editable": false,
    "nbgrader": {
     "cell_type": "code",
     "checksum": "f3bf4189beaea099201a88fb54d7d755",
     "grade": false,
     "grade_id": "cell-edd743f92a1388af",
     "locked": true,
     "schema_version": 3,
     "solution": false,
     "task": false
    }
   },
   "outputs": [
    {
     "data": {
      "image/png": "[encoded data removed]",
      "text/plain": [
       "<Figure size 1080x900 with 4 Axes>"
      ]
     },
     "metadata": {},
     "output_type": "display_data"
    }
   ],
   "source": [
    "if perform_computation:\n",
    "    # The noise in the plots were smoothed-out by an exponential moving average filter.\n",
    "    # If you'd rather see the original plots, you can see the disable noise removal smoothing filters \n",
    "    # for each subplot by setting the corresponding smoothing factor to zero.\n",
    "    generate_plots(training_info_plain_ridge, heldout_acc_smoothing=0.99, loss_smoothing=0.99, weight_smoothing=0.)"
   ]
  },
  {
   "cell_type": "code",
   "execution_count": 89,
   "metadata": {
    "deletable": false,
    "editable": false,
    "nbgrader": {
     "cell_type": "code",
     "checksum": "834845967e40d4c77161e51ca3f7e790",
     "grade": false,
     "grade_id": "cell-e91000445ef7d39a",
     "locked": true,
     "schema_version": 3,
     "solution": false,
     "task": false
    }
   },
   "outputs": [
    {
     "name": "stdout",
     "output_type": "stream",
     "text": [
      "Here are the learned weights for each regularization coefficient:\n",
      "  * Each row represents a single regularization coefficient.\n",
      "  * The last two columns represent the weight vector magnitudes.\n",
      "  * Each of the other columns represent a feature weight. \n"
     ]
    },
    {
     "data": {
      "text/html": [
       "<style type=\"text/css\">\n",
       "#T_e5d6f_row0_col4, #T_e5d6f_row1_col4, #T_e5d6f_row2_col4, #T_e5d6f_row3_col5, #T_e5d6f_row4_col5 {\n",
       "  font-weight: bold;\n",
       "}\n",
       "</style>\n",
       "<table id=\"T_e5d6f\">\n",
       "  <thead>\n",
       "    <tr>\n",
       "      <th class=\"blank level0\" >&nbsp;</th>\n",
       "      <th id=\"T_e5d6f_level0_col0\" class=\"col_heading level0 col0\" >$a_{1}$</th>\n",
       "      <th id=\"T_e5d6f_level0_col1\" class=\"col_heading level0 col1\" >$a_{2}$</th>\n",
       "      <th id=\"T_e5d6f_level0_col2\" class=\"col_heading level0 col2\" >$a_{3}$</th>\n",
       "      <th id=\"T_e5d6f_level0_col3\" class=\"col_heading level0 col3\" >$a_{4}$</th>\n",
       "      <th id=\"T_e5d6f_level0_col4\" class=\"col_heading level0 col4\" >$\\|a\\|_2^2$</th>\n",
       "      <th id=\"T_e5d6f_level0_col5\" class=\"col_heading level0 col5\" >$\\|a\\|_1^1$</th>\n",
       "    </tr>\n",
       "    <tr>\n",
       "      <th class=\"index_name level0\" >$\\lambda$</th>\n",
       "      <th class=\"blank col0\" >&nbsp;</th>\n",
       "      <th class=\"blank col1\" >&nbsp;</th>\n",
       "      <th class=\"blank col2\" >&nbsp;</th>\n",
       "      <th class=\"blank col3\" >&nbsp;</th>\n",
       "      <th class=\"blank col4\" >&nbsp;</th>\n",
       "      <th class=\"blank col5\" >&nbsp;</th>\n",
       "    </tr>\n",
       "  </thead>\n",
       "  <tbody>\n",
       "    <tr>\n",
       "      <th id=\"T_e5d6f_level0_row0\" class=\"row_heading level0 row0\" >0.000000</th>\n",
       "      <td id=\"T_e5d6f_row0_col0\" class=\"data row0 col0\" >-2.832600</td>\n",
       "      <td id=\"T_e5d6f_row0_col1\" class=\"data row0 col1\" >-3.422300</td>\n",
       "      <td id=\"T_e5d6f_row0_col2\" class=\"data row0 col2\" >-3.039400</td>\n",
       "      <td id=\"T_e5d6f_row0_col3\" class=\"data row0 col3\" >0.055000</td>\n",
       "      <td id=\"T_e5d6f_row0_col4\" class=\"data row0 col4\" >28.976800</td>\n",
       "      <td id=\"T_e5d6f_row0_col5\" class=\"data row0 col5\" >9.349300</td>\n",
       "    </tr>\n",
       "    <tr>\n",
       "      <th id=\"T_e5d6f_level0_row1\" class=\"row_heading level0 row1\" >0.001000</th>\n",
       "      <td id=\"T_e5d6f_row1_col0\" class=\"data row1 col0\" >-2.512200</td>\n",
       "      <td id=\"T_e5d6f_row1_col1\" class=\"data row1 col1\" >-2.979100</td>\n",
       "      <td id=\"T_e5d6f_row1_col2\" class=\"data row1 col2\" >-2.643700</td>\n",
       "      <td id=\"T_e5d6f_row1_col3\" class=\"data row1 col3\" >0.047700</td>\n",
       "      <td id=\"T_e5d6f_row1_col4\" class=\"data row1 col4\" >22.177900</td>\n",
       "      <td id=\"T_e5d6f_row1_col5\" class=\"data row1 col5\" >8.182800</td>\n",
       "    </tr>\n",
       "    <tr>\n",
       "      <th id=\"T_e5d6f_level0_row2\" class=\"row_heading level0 row2\" >0.010000</th>\n",
       "      <td id=\"T_e5d6f_row2_col0\" class=\"data row2 col0\" >-1.649300</td>\n",
       "      <td id=\"T_e5d6f_row2_col1\" class=\"data row2 col1\" >-1.615300</td>\n",
       "      <td id=\"T_e5d6f_row2_col2\" class=\"data row2 col2\" >-1.547500</td>\n",
       "      <td id=\"T_e5d6f_row2_col3\" class=\"data row2 col3\" >0.094100</td>\n",
       "      <td id=\"T_e5d6f_row2_col4\" class=\"data row2 col4\" >7.732900</td>\n",
       "      <td id=\"T_e5d6f_row2_col5\" class=\"data row2 col5\" >4.906200</td>\n",
       "    </tr>\n",
       "    <tr>\n",
       "      <th id=\"T_e5d6f_level0_row3\" class=\"row_heading level0 row3\" >0.100000</th>\n",
       "      <td id=\"T_e5d6f_row3_col0\" class=\"data row3 col0\" >-1.122700</td>\n",
       "      <td id=\"T_e5d6f_row3_col1\" class=\"data row3 col1\" >-0.870000</td>\n",
       "      <td id=\"T_e5d6f_row3_col2\" class=\"data row3 col2\" >-0.839900</td>\n",
       "      <td id=\"T_e5d6f_row3_col3\" class=\"data row3 col3\" >0.100700</td>\n",
       "      <td id=\"T_e5d6f_row3_col4\" class=\"data row3 col4\" >2.733000</td>\n",
       "      <td id=\"T_e5d6f_row3_col5\" class=\"data row3 col5\" >2.933300</td>\n",
       "    </tr>\n",
       "    <tr>\n",
       "      <th id=\"T_e5d6f_level0_row4\" class=\"row_heading level0 row4\" >1.000000</th>\n",
       "      <td id=\"T_e5d6f_row4_col0\" class=\"data row4 col0\" >-0.533600</td>\n",
       "      <td id=\"T_e5d6f_row4_col1\" class=\"data row4 col1\" >-0.248200</td>\n",
       "      <td id=\"T_e5d6f_row4_col2\" class=\"data row4 col2\" >-0.016600</td>\n",
       "      <td id=\"T_e5d6f_row4_col3\" class=\"data row4 col3\" >-0.030300</td>\n",
       "      <td id=\"T_e5d6f_row4_col4\" class=\"data row4 col4\" >0.347500</td>\n",
       "      <td id=\"T_e5d6f_row4_col5\" class=\"data row4 col5\" >0.828700</td>\n",
       "    </tr>\n",
       "  </tbody>\n",
       "</table>\n"
      ],
      "text/plain": [
       "<pandas.io.formats.style.Styler at 0x7f6f16a4c3d0>"
      ]
     },
     "execution_count": 89,
     "metadata": {},
     "output_type": "execute_result"
    }
   ],
   "source": [
    "w_df = None\n",
    "if perform_computation:\n",
    "    w_df = print_weights(training_info_plain_ridge, rounding=4)\n",
    "w_df"
   ]
  },
  {
   "cell_type": "code",
   "execution_count": 90,
   "metadata": {
    "deletable": false,
    "editable": false,
    "nbgrader": {
     "cell_type": "code",
     "checksum": "083b47781f41ba41013aa4317f17c85e",
     "grade": false,
     "grade_id": "cell-d8cbb476311d3c22",
     "locked": true,
     "schema_version": 3,
     "solution": false,
     "task": false
    }
   },
   "outputs": [
    {
     "name": "stdout",
     "output_type": "stream",
     "text": [
      "Best lambda was chosen to be 0.0\n",
      "The resulting test accuracy was 98.251 %\n"
     ]
    }
   ],
   "source": [
    "if perform_computation:\n",
    "    get_test_accuracy(test_features_pr, test_labels_pr, training_info_plain_ridge)"
   ]
  },
  {
   "cell_type": "markdown",
   "metadata": {
    "deletable": false,
    "editable": false,
    "nbgrader": {
     "cell_type": "markdown",
     "checksum": "65ed4f16d72a65d2fdc3456b8256cb11",
     "grade": false,
     "grade_id": "cell-7dbd381a43adc7e4",
     "locked": true,
     "schema_version": 3,
     "solution": false,
     "task": false
    }
   },
   "source": [
    "The weight magnitude plot in this problem is showing $||a||_2^2 = \\sum_{j=1}^d a_j^2$ since we're using Ridge regularization. Here are some questions you may want to think about as food for thought.\n",
    "\n",
    "1. Does regularization help at all?\n",
    "\n",
    "2. If regularization did not help, why do you think the reason was?\n",
    "\n",
    " * **Hint**: How many features do you have in this problem?\n",
    " "
   ]
  },
  {
   "cell_type": "markdown",
   "metadata": {
    "deletable": false,
    "editable": false,
    "nbgrader": {
     "cell_type": "markdown",
     "checksum": "10d998a659752e6f9f39774ee383d729",
     "grade": false,
     "grade_id": "cell-5305d71e148fa947",
     "locked": true,
     "schema_version": 3,
     "solution": false,
     "task": false
    }
   },
   "source": [
    "### 2.6.2 Lasso Regularization"
   ]
  },
  {
   "cell_type": "code",
   "execution_count": 91,
   "metadata": {
    "deletable": false,
    "editable": false,
    "nbgrader": {
     "cell_type": "code",
     "checksum": "3c8c53b61f56ae75b76b9142b00ce1ea",
     "grade": false,
     "grade_id": "cell-c1629d5591d011b2",
     "locked": true,
     "schema_version": 3,
     "solution": false,
     "task": false
    }
   },
   "outputs": [
    {
     "name": "stdout",
     "output_type": "stream",
     "text": [
      "....................................................................................................\n",
      "lambda=0.0 yielded a validation accuracy of 98.542 %\n",
      "....................................................................................................\n",
      "lambda=0.001 yielded a validation accuracy of 98.542 %\n",
      "....................................................................................................\n",
      "lambda=0.01 yielded a validation accuracy of 98.542 %\n",
      "....................................................................................................\n",
      "lambda=0.1 yielded a validation accuracy of 97.959 %\n",
      "....................................................................................................\n",
      "lambda=1.0 yielded a validation accuracy of 55.394 %\n"
     ]
    }
   ],
   "source": [
    "if perform_computation:\n",
    "    splitted_data = train_val_test_split(all_features, all_labels, train_frac=0.5, val_frac=0.25)\n",
    "    \n",
    "    # The \"_pl\" variable postfix is short for \"plain lasso\".\n",
    "    train_features_pl, train_labels_pl, val_features_pl, val_labels_pl, test_features_pl, test_labels_pl = splitted_data\n",
    "    \n",
    "    training_info_plain_lasso = svm_trainer(train_features_pl, train_labels_pl, val_features_pl, val_labels_pl, \n",
    "                                            heldout_size=50,batch_size=32, num_epochs=50, num_steps=300, \n",
    "                                            eval_interval = 30, eta_tuner = lambda epoch: 1./(0.01 * epoch + 50.),\n",
    "                                            lambda_list=[0., 1e-3, 1e-2, 1e-1, 1e0], \n",
    "                                            regularization='lasso')"
   ]
  },
  {
   "cell_type": "code",
   "execution_count": 92,
   "metadata": {
    "deletable": false,
    "editable": false,
    "nbgrader": {
     "cell_type": "code",
     "checksum": "c0d73b43c1ac5cf3d5598943a3b67762",
     "grade": false,
     "grade_id": "cell-825d7eadcfbf7048",
     "locked": true,
     "schema_version": 3,
     "solution": false,
     "task": false
    }
   },
   "outputs": [
    {
     "data": {
      "image/png": "[encoded data removed]",
      "text/plain": [
       "<Figure size 1080x900 with 4 Axes>"
      ]
     },
     "metadata": {},
     "output_type": "display_data"
    }
   ],
   "source": [
    "if perform_computation:\n",
    "    generate_plots(training_info_plain_lasso, heldout_acc_smoothing=0.99, loss_smoothing=0.99, weight_smoothing=0.)"
   ]
  },
  {
   "cell_type": "code",
   "execution_count": 93,
   "metadata": {
    "deletable": false,
    "editable": false,
    "nbgrader": {
     "cell_type": "code",
     "checksum": "0b67d91b6aaaee248f735212e464eb15",
     "grade": false,
     "grade_id": "cell-9c2ab237d9a418b7",
     "locked": true,
     "schema_version": 3,
     "solution": false,
     "task": false
    }
   },
   "outputs": [
    {
     "name": "stdout",
     "output_type": "stream",
     "text": [
      "Best lambda was chosen to be 0.0\n",
      "The resulting test accuracy was 98.251 %\n"
     ]
    }
   ],
   "source": [
    "if perform_computation:\n",
    "    get_test_accuracy(test_features_pl, test_labels_pl, training_info_plain_lasso)"
   ]
  },
  {
   "cell_type": "code",
   "execution_count": 94,
   "metadata": {
    "deletable": false,
    "editable": false,
    "nbgrader": {
     "cell_type": "code",
     "checksum": "749b4a4d7cc8dd6ac414e42aaf3e6b6d",
     "grade": false,
     "grade_id": "cell-f8e97bd55c4723ca",
     "locked": true,
     "schema_version": 3,
     "solution": false,
     "task": false
    }
   },
   "outputs": [
    {
     "name": "stdout",
     "output_type": "stream",
     "text": [
      "Here are the learned weights for each regularization coefficient:\n",
      "  * Each row represents a single regularization coefficient.\n",
      "  * The last two columns represent the weight vector magnitudes.\n",
      "  * Each of the other columns represent a feature weight. \n"
     ]
    },
    {
     "data": {
      "text/html": [
       "<style type=\"text/css\">\n",
       "#T_a5d6a_row0_col4, #T_a5d6a_row1_col4, #T_a5d6a_row2_col4, #T_a5d6a_row3_col5, #T_a5d6a_row4_col5 {\n",
       "  font-weight: bold;\n",
       "}\n",
       "</style>\n",
       "<table id=\"T_a5d6a\">\n",
       "  <thead>\n",
       "    <tr>\n",
       "      <th class=\"blank level0\" >&nbsp;</th>\n",
       "      <th id=\"T_a5d6a_level0_col0\" class=\"col_heading level0 col0\" >$a_{1}$</th>\n",
       "      <th id=\"T_a5d6a_level0_col1\" class=\"col_heading level0 col1\" >$a_{2}$</th>\n",
       "      <th id=\"T_a5d6a_level0_col2\" class=\"col_heading level0 col2\" >$a_{3}$</th>\n",
       "      <th id=\"T_a5d6a_level0_col3\" class=\"col_heading level0 col3\" >$a_{4}$</th>\n",
       "      <th id=\"T_a5d6a_level0_col4\" class=\"col_heading level0 col4\" >$\\|a\\|_2^2$</th>\n",
       "      <th id=\"T_a5d6a_level0_col5\" class=\"col_heading level0 col5\" >$\\|a\\|_1^1$</th>\n",
       "    </tr>\n",
       "    <tr>\n",
       "      <th class=\"index_name level0\" >$\\lambda$</th>\n",
       "      <th class=\"blank col0\" >&nbsp;</th>\n",
       "      <th class=\"blank col1\" >&nbsp;</th>\n",
       "      <th class=\"blank col2\" >&nbsp;</th>\n",
       "      <th class=\"blank col3\" >&nbsp;</th>\n",
       "      <th class=\"blank col4\" >&nbsp;</th>\n",
       "      <th class=\"blank col5\" >&nbsp;</th>\n",
       "    </tr>\n",
       "  </thead>\n",
       "  <tbody>\n",
       "    <tr>\n",
       "      <th id=\"T_a5d6a_level0_row0\" class=\"row_heading level0 row0\" >0.000000</th>\n",
       "      <td id=\"T_a5d6a_row0_col0\" class=\"data row0 col0\" >-2.832600</td>\n",
       "      <td id=\"T_a5d6a_row0_col1\" class=\"data row0 col1\" >-3.422300</td>\n",
       "      <td id=\"T_a5d6a_row0_col2\" class=\"data row0 col2\" >-3.039400</td>\n",
       "      <td id=\"T_a5d6a_row0_col3\" class=\"data row0 col3\" >0.055000</td>\n",
       "      <td id=\"T_a5d6a_row0_col4\" class=\"data row0 col4\" >28.976800</td>\n",
       "      <td id=\"T_a5d6a_row0_col5\" class=\"data row0 col5\" >9.349300</td>\n",
       "    </tr>\n",
       "    <tr>\n",
       "      <th id=\"T_a5d6a_level0_row1\" class=\"row_heading level0 row1\" >0.001000</th>\n",
       "      <td id=\"T_a5d6a_row1_col0\" class=\"data row1 col0\" >-2.706000</td>\n",
       "      <td id=\"T_a5d6a_row1_col1\" class=\"data row1 col1\" >-3.245000</td>\n",
       "      <td id=\"T_a5d6a_row1_col2\" class=\"data row1 col2\" >-2.895900</td>\n",
       "      <td id=\"T_a5d6a_row1_col3\" class=\"data row1 col3\" >0.008300</td>\n",
       "      <td id=\"T_a5d6a_row1_col4\" class=\"data row1 col4\" >26.238800</td>\n",
       "      <td id=\"T_a5d6a_row1_col5\" class=\"data row1 col5\" >8.855200</td>\n",
       "    </tr>\n",
       "    <tr>\n",
       "      <th id=\"T_a5d6a_level0_row2\" class=\"row_heading level0 row2\" >0.010000</th>\n",
       "      <td id=\"T_a5d6a_row2_col0\" class=\"data row2 col0\" >-1.867700</td>\n",
       "      <td id=\"T_a5d6a_row2_col1\" class=\"data row2 col1\" >-2.300500</td>\n",
       "      <td id=\"T_a5d6a_row2_col2\" class=\"data row2 col2\" >-2.016100</td>\n",
       "      <td id=\"T_a5d6a_row2_col3\" class=\"data row2 col3\" >0.025900</td>\n",
       "      <td id=\"T_a5d6a_row2_col4\" class=\"data row2 col4\" >12.846000</td>\n",
       "      <td id=\"T_a5d6a_row2_col5\" class=\"data row2 col5\" >6.210200</td>\n",
       "    </tr>\n",
       "    <tr>\n",
       "      <th id=\"T_a5d6a_level0_row3\" class=\"row_heading level0 row3\" >0.100000</th>\n",
       "      <td id=\"T_a5d6a_row3_col0\" class=\"data row3 col0\" >-1.092700</td>\n",
       "      <td id=\"T_a5d6a_row3_col1\" class=\"data row3 col1\" >-0.884200</td>\n",
       "      <td id=\"T_a5d6a_row3_col2\" class=\"data row3 col2\" >-0.806200</td>\n",
       "      <td id=\"T_a5d6a_row3_col3\" class=\"data row3 col3\" >-0.001600</td>\n",
       "      <td id=\"T_a5d6a_row3_col4\" class=\"data row3 col4\" >2.625800</td>\n",
       "      <td id=\"T_a5d6a_row3_col5\" class=\"data row3 col5\" >2.784700</td>\n",
       "    </tr>\n",
       "    <tr>\n",
       "      <th id=\"T_a5d6a_level0_row4\" class=\"row_heading level0 row4\" >1.000000</th>\n",
       "      <td id=\"T_a5d6a_row4_col0\" class=\"data row4 col0\" >-0.026000</td>\n",
       "      <td id=\"T_a5d6a_row4_col1\" class=\"data row4 col1\" >0.007700</td>\n",
       "      <td id=\"T_a5d6a_row4_col2\" class=\"data row4 col2\" >0.015000</td>\n",
       "      <td id=\"T_a5d6a_row4_col3\" class=\"data row4 col3\" >-0.007600</td>\n",
       "      <td id=\"T_a5d6a_row4_col4\" class=\"data row4 col4\" >0.001000</td>\n",
       "      <td id=\"T_a5d6a_row4_col5\" class=\"data row4 col5\" >0.056300</td>\n",
       "    </tr>\n",
       "  </tbody>\n",
       "</table>\n"
      ],
      "text/plain": [
       "<pandas.io.formats.style.Styler at 0x7f6f1610b1c0>"
      ]
     },
     "execution_count": 94,
     "metadata": {},
     "output_type": "execute_result"
    }
   ],
   "source": [
    "w_df = None\n",
    "if perform_computation:\n",
    "    w_df = print_weights(training_info_plain_lasso, rounding=4)\n",
    "w_df"
   ]
  },
  {
   "cell_type": "markdown",
   "metadata": {
    "deletable": false,
    "editable": false,
    "nbgrader": {
     "cell_type": "markdown",
     "checksum": "6ab0a0b3cba057956e8707c0143680d0",
     "grade": false,
     "grade_id": "cell-db37905031ad6bc8",
     "locked": true,
     "schema_version": 3,
     "solution": false,
     "task": false
    }
   },
   "source": [
    "Some other questions that can be some food for thought:\n",
    "\n",
    "1. Did Lasso regularization help at all in this setting?\n",
    "\n",
    "2. Did small lasso regularization offer any benefir compared to small ridge regularization?\n",
    "\n",
    "3. Did large lasso regularization do better than large ridge regularization?\n",
    "\n",
    "  * **Hint**: Why do you think $\\lambda=1$ acted more \"aggressively\" (i.e., supressed the weights more) with Lasso regularization than Ridge regularization?"
   ]
  },
  {
   "cell_type": "markdown",
   "metadata": {
    "deletable": false,
    "editable": false,
    "nbgrader": {
     "cell_type": "markdown",
     "checksum": "685c2f344df1a952fa03241f81580e2d",
     "grade": false,
     "grade_id": "cell-387c4c1c8334ca7f",
     "locked": true,
     "schema_version": 3,
     "solution": false,
     "task": false
    }
   },
   "source": [
    "# 3. Bank Note Authentication Problem With Induced Noise"
   ]
  },
  {
   "cell_type": "markdown",
   "metadata": {
    "deletable": false,
    "editable": false,
    "nbgrader": {
     "cell_type": "markdown",
     "checksum": "f6b14ce76332209ae2b35dd0d4a896ae",
     "grade": false,
     "grade_id": "cell-283e1bd5356cb484",
     "locked": true,
     "schema_version": 3,
     "solution": false,
     "task": false
    }
   },
   "source": [
    "In many applied learning tasks, the data set includes a lot of raw measurements (i.e., features), which may not be releavant to the final goal of classification. Trying to identify and exclude such \"useless\" features may not be an easy job, and would be task-specific, may require a lot of expert knowledge for identification, and would not be easy to automate (which is contrary to the whole point of machine learning). \n",
    "\n",
    "To see in practice the phenomenon that irrelevant features make the problem more high-dimensional and therefore challenging, we will add a lot of \"useless\" features to the bank note authentication dataset we had. More precisely, 5000 random Gaussian Noise features will be concatenated to the original data set to \"confuse\" the learning model. Philosophically speaking, putting any weight other than zero towards these noise features when making decisions would hurt the overall testing performance of the model. However, the models are still free to put non-zero weights on such features.\n",
    "\n",
    "Notice that this is not an additive noise to the features, and the \"useful\" information for making decisions will be untouched (i.e., the 4 original features are still included plainly without any modification). Therefore, one would expect a robust classifier to still be able to produce the same classification quality and ignore the noise features."
   ]
  },
  {
   "cell_type": "markdown",
   "metadata": {
    "deletable": false,
    "editable": false,
    "nbgrader": {
     "cell_type": "markdown",
     "checksum": "2c21a5cec23d8952bfbc5cea0723fa80",
     "grade": false,
     "grade_id": "cell-55019db05d118bb6",
     "locked": true,
     "schema_version": 3,
     "solution": false,
     "task": false
    }
   },
   "source": [
    "## 3.1 Ridge Regularization"
   ]
  },
  {
   "cell_type": "code",
   "execution_count": null,
   "metadata": {
    "deletable": false,
    "editable": false,
    "nbgrader": {
     "cell_type": "code",
     "checksum": "b2774ac60734ca1c37b3bfb50dcc98c7",
     "grade": false,
     "grade_id": "cell-136fd464775495df",
     "locked": true,
     "schema_version": 3,
     "solution": false,
     "task": false
    }
   },
   "outputs": [
    {
     "name": "stdout",
     "output_type": "stream",
     "text": [
      "....................................................................................................\n",
      "lambda=0.0 yielded a validation accuracy of 60.350 %\n",
      "...."
     ]
    }
   ],
   "source": [
    "if perform_computation: \n",
    "    all_features_noised = np.concatenate([all_features, np_random.randn(all_features.shape[0], 5000)], axis=1)\n",
    "    \n",
    "    splitted_data = train_val_test_split(all_features_noised, all_labels, train_frac=0.5, val_frac=0.25)\n",
    "    \n",
    "    # The \"_nr\" variable postfix is short for \"noisy ridge\".\n",
    "    train_features_nr, train_labels_nr, val_features_nr, val_labels_nr, test_features_nr, test_labels_nr = splitted_data\n",
    "    \n",
    "    training_info_noisy_ridge = svm_trainer(train_features_nr, train_labels_nr, val_features_nr, val_labels_nr,\n",
    "                                            batch_size=32, num_epochs=50, num_steps=300, eval_interval=30, \n",
    "                                            eta_tuner = lambda epoch: 1./(0.2 * epoch + 1000.),\n",
    "                                            lambda_list = [0., 1e-3, 1e-2, 1e-1, 1e0], \n",
    "                                            regularization='ridge')"
   ]
  },
  {
   "cell_type": "code",
   "execution_count": null,
   "metadata": {
    "deletable": false,
    "editable": false,
    "nbgrader": {
     "cell_type": "code",
     "checksum": "94fad8fc7cb7614d36417a5ecab2bd22",
     "grade": false,
     "grade_id": "cell-4d032792be584e9b",
     "locked": true,
     "schema_version": 3,
     "solution": false,
     "task": false
    }
   },
   "outputs": [],
   "source": [
    "if perform_computation:\n",
    "    generate_plots(training_info_noisy_ridge, heldout_acc_smoothing=0.99, loss_smoothing=0.99, weight_smoothing=0.)"
   ]
  },
  {
   "cell_type": "code",
   "execution_count": null,
   "metadata": {
    "deletable": false,
    "editable": false,
    "nbgrader": {
     "cell_type": "code",
     "checksum": "00dec59051cb8892070739c0915ded88",
     "grade": false,
     "grade_id": "cell-b82a1dee537c4771",
     "locked": true,
     "schema_version": 3,
     "solution": false,
     "task": false
    }
   },
   "outputs": [],
   "source": [
    "w_df = None\n",
    "if perform_computation:\n",
    "    w_df = print_weights(training_info_noisy_ridge, rounding=4)\n",
    "    print('  * The non-noise features are the first four features.')\n",
    "w_df"
   ]
  },
  {
   "cell_type": "code",
   "execution_count": null,
   "metadata": {
    "deletable": false,
    "editable": false,
    "nbgrader": {
     "cell_type": "code",
     "checksum": "6234cd91589764d304204fe49ab6612c",
     "grade": false,
     "grade_id": "cell-9de64701542045a0",
     "locked": true,
     "schema_version": 3,
     "solution": false,
     "task": false
    }
   },
   "outputs": [],
   "source": [
    "if perform_computation:\n",
    "    get_test_accuracy(test_features_nr, test_labels_nr, training_info_noisy_ridge)"
   ]
  },
  {
   "cell_type": "markdown",
   "metadata": {
    "deletable": false,
    "editable": false,
    "nbgrader": {
     "cell_type": "markdown",
     "checksum": "90b5a54f0740e29c59f90d8577f67961",
     "grade": false,
     "grade_id": "cell-dd6c4b41c8b05f0d",
     "locked": true,
     "schema_version": 3,
     "solution": false,
     "task": false
    }
   },
   "source": [
    "Some observational questions:\n",
    "\n",
    "1. Does SVM without any regularization work on this problem?\n",
    "\n",
    "  * In other words, how different is SVM performing from a random coin toss?\n",
    "\n",
    "\n",
    "2. Did Ridge Regularization help?\n",
    "\n",
    "  * If so, by what margin? Is it significant?"
   ]
  },
  {
   "cell_type": "markdown",
   "metadata": {
    "deletable": false,
    "editable": false,
    "nbgrader": {
     "cell_type": "markdown",
     "checksum": "adc2e0b2a79d94d182271ebfaadef35c",
     "grade": false,
     "grade_id": "cell-2b11521635382d74",
     "locked": true,
     "schema_version": 3,
     "solution": false,
     "task": false
    }
   },
   "source": [
    "## 3.2 Lasso Regularization"
   ]
  },
  {
   "cell_type": "code",
   "execution_count": null,
   "metadata": {
    "deletable": false,
    "editable": false,
    "nbgrader": {
     "cell_type": "code",
     "checksum": "2c42d0f47e59491223f633e7375bc93b",
     "grade": false,
     "grade_id": "cell-bb15bb8a7cd5df54",
     "locked": true,
     "schema_version": 3,
     "solution": false,
     "task": false
    }
   },
   "outputs": [],
   "source": [
    "if perform_computation: \n",
    "    all_features_noised = np.concatenate([all_features, np_random.randn(all_features.shape[0], 5000)], axis=1)\n",
    "    \n",
    "    splitted_data = train_val_test_split(all_features_noised, all_labels, train_frac=0.5, val_frac=0.25)\n",
    "    \n",
    "    # The \"_nl\" variable postfix is short for \"noisy lasso\".\n",
    "    train_features_nl, train_labels_nl, val_features_nl, val_labels_nl, test_features_nl, test_labels_nl = splitted_data\n",
    "    \n",
    "    training_info_noisy_lasso = svm_trainer(train_features_nl, train_labels_nl, val_features_nl, val_labels_nl,\n",
    "                                            batch_size=32, num_epochs=50, num_steps=300, eval_interval=30, \n",
    "                                            eta_tuner = lambda epoch: 1./(0.2 * epoch + 1000.),\n",
    "                                            lambda_list = [0., 1e-3, 1e-2, 1e-1, 1e0], \n",
    "                                            regularization='lasso')"
   ]
  },
  {
   "cell_type": "code",
   "execution_count": null,
   "metadata": {
    "deletable": false,
    "editable": false,
    "nbgrader": {
     "cell_type": "code",
     "checksum": "6d9aa981e569ccc47c5f1705e6579f4a",
     "grade": false,
     "grade_id": "cell-5fee17ca52897714",
     "locked": true,
     "schema_version": 3,
     "solution": false,
     "task": false
    }
   },
   "outputs": [],
   "source": [
    "if perform_computation:\n",
    "    generate_plots(training_info_noisy_lasso, heldout_acc_smoothing=0.99, loss_smoothing=0.99, weight_smoothing=0.95)"
   ]
  },
  {
   "cell_type": "code",
   "execution_count": null,
   "metadata": {
    "deletable": false,
    "editable": false,
    "nbgrader": {
     "cell_type": "code",
     "checksum": "d53c062a2038a40446eb859db2ed9d8c",
     "grade": false,
     "grade_id": "cell-991a9f06e972d70d",
     "locked": true,
     "schema_version": 3,
     "solution": false,
     "task": false
    }
   },
   "outputs": [],
   "source": [
    "w_df = None\n",
    "if perform_computation:\n",
    "    w_df = print_weights(training_info_noisy_lasso, rounding=4)\n",
    "    print('  * The non-noise features are the first four features.')\n",
    "w_df"
   ]
  },
  {
   "cell_type": "code",
   "execution_count": null,
   "metadata": {
    "deletable": false,
    "editable": false,
    "nbgrader": {
     "cell_type": "code",
     "checksum": "d321b2ec0117a3e6fffb8b4af6582722",
     "grade": false,
     "grade_id": "cell-3ffc3ed5797c84b9",
     "locked": true,
     "schema_version": 3,
     "solution": false,
     "task": false
    }
   },
   "outputs": [],
   "source": [
    "if perform_computation:\n",
    "    get_test_accuracy(test_features_nl, test_labels_nl, training_info_noisy_lasso)"
   ]
  },
  {
   "cell_type": "markdown",
   "metadata": {
    "deletable": false,
    "editable": false,
    "nbgrader": {
     "cell_type": "markdown",
     "checksum": "a42f4fd26295057134c5f7c7ee5d292a",
     "grade": false,
     "grade_id": "cell-687985bf55df5931",
     "locked": true,
     "schema_version": 3,
     "solution": false,
     "task": false
    }
   },
   "source": [
    "1. Did Lasso regularization help in this scenario?\n",
    "\n",
    "2. If so, why did Lasso help with noisy features? Why didn't Ridge do so?\n",
    "\n",
    "* **Hint**: In the weights table above, a look at the weights, the corresponding regularization norms, and then making a comparison between the last two trainings (i.e., Ridge vs. Lasso regularization trainings) is useful. \n",
    "\n",
    "  * Try and justify what you observe. \n",
    "  \n",
    "  * Which regularization coefficient/scheme produced the most \"sensible\" set of weights? Why?"
   ]
  },
  {
   "cell_type": "markdown",
   "metadata": {
    "deletable": false,
    "editable": false,
    "nbgrader": {
     "cell_type": "markdown",
     "checksum": "6e94853baca20b7f9c0122b55e56d6d6",
     "grade": false,
     "grade_id": "cell-2ab072ee165f655c",
     "locked": true,
     "schema_version": 3,
     "solution": false,
     "task": false
    }
   },
   "source": [
    "## 3.3 SVMLight"
   ]
  },
  {
   "cell_type": "markdown",
   "metadata": {
    "deletable": false,
    "editable": false,
    "nbgrader": {
     "cell_type": "markdown",
     "checksum": "5668818723cf1a62faee9a6f2c7ae1dc",
     "grade": false,
     "grade_id": "cell-4ad9ec624e53df65",
     "locked": true,
     "schema_version": 3,
     "solution": false,
     "task": false
    }
   },
   "source": [
    "In the noisy features scenario, to get the SVM model to train properly using stochastic gradient descent, the learning rate sequences were modified from the previous part.\n",
    "\n",
    "Ususally tunning such hyper-parameters can play a significant role in the method's final performance. This hyper-parameter tunning process can be extremely difficult and require a lot of expert-intervention.\n",
    "\n",
    "SVMLight has some nice default hyper-parameters and search procedures set that were benchmarked and thoughtfully picked by its designers. If you'd rather not spending any time tunning hyper-parameters for whatever reason, and just want to get a feeling about a reasonable baseline, checking such carefully written libraries may be a good idea. \n",
    "\n",
    "For the sake of comparison, let's see how SVMLight is doing without any intervention."
   ]
  },
  {
   "cell_type": "code",
   "execution_count": null,
   "metadata": {
    "deletable": false,
    "editable": false,
    "nbgrader": {
     "cell_type": "code",
     "checksum": "fc636d6500c8fa9e1d8acf759f489609",
     "grade": false,
     "grade_id": "cell-93e031d7ec21ff89",
     "locked": true,
     "schema_version": 3,
     "solution": false,
     "task": false
    }
   },
   "outputs": [],
   "source": [
    "if perform_computation:\n",
    "    from sklearn.datasets import dump_svmlight_file\n",
    "    dump_svmlight_file(train_features_nl, train_labels_nl, 'training_feats.data', \n",
    "                       zero_based=False, comment=None, query_id=None, multilabel=False)\n",
    "\n",
    "    from subprocess import Popen, PIPE\n",
    "    process = Popen([\"./svmlight/svm_learn\", \"./training_feats.data\", \"svm_model.txt\"], stdout=PIPE, stderr=PIPE)\n",
    "    stdout, stderr = process.communicate()\n",
    "    print(stdout.decode(\"utf-8\"))"
   ]
  },
  {
   "cell_type": "code",
   "execution_count": null,
   "metadata": {
    "deletable": false,
    "editable": false,
    "nbgrader": {
     "cell_type": "code",
     "checksum": "62529c857067fed40cdd5dc5fa16704a",
     "grade": false,
     "grade_id": "cell-7fd0b41877cf9327",
     "locked": true,
     "schema_version": 3,
     "solution": false,
     "task": false
    }
   },
   "outputs": [],
   "source": [
    "if perform_computation:\n",
    "    from svm2weight import get_svmlight_weights\n",
    "    \n",
    "    def svmlight_classifier(train_features):\n",
    "        return (train_features @ svm_weights - thresh).reshape(-1) >= 0.\n",
    "    \n",
    "    svm_weights, thresh = get_svmlight_weights('svm_model.txt', printOutput=False)\n",
    "    \n",
    "    train_pred = 2*(svmlight_classifier(train_features_nl))-1\n",
    "    test_pred = 2*(svmlight_classifier(test_features_nl))-1\n",
    "\n",
    "    train_acc = (train_pred==train_labels_nl).mean()\n",
    "    test_acc = (test_pred==test_labels_nl).mean()\n",
    "    print(f'The training accuracy of your trained model is %.3f'%(train_acc*100) + '%')\n",
    "    print(f'The testing accuracy of your trained model is %.3f'%(test_acc*100) + '%')"
   ]
  },
  {
   "cell_type": "code",
   "execution_count": null,
   "metadata": {
    "deletable": false,
    "editable": false,
    "nbgrader": {
     "cell_type": "code",
     "checksum": "77418881d27dc87a4ebbc13088493456",
     "grade": false,
     "grade_id": "cell-2c5e22fc8c0ab848",
     "locked": true,
     "schema_version": 3,
     "solution": false,
     "task": false
    }
   },
   "outputs": [],
   "source": [
    "if perform_computation:\n",
    "    import os\n",
    "    for file in ['svm_model.txt', 'training_feats.data']:\n",
    "        if os.path.exists(file):\n",
    "            os.remove(file)"
   ]
  }
 ],
 "metadata": {
  "kernelspec": {
   "display_name": "Python 3 (ipykernel)",
   "language": "python",
   "name": "python3"
  },
  "language_info": {
   "codemirror_mode": {
    "name": "ipython",
    "version": 3
   },
   "file_extension": ".py",
   "mimetype": "text/x-python",
   "name": "python",
   "nbconvert_exporter": "python",
   "pygments_lexer": "ipython3",
   "version": "3.8.20"
  }
 },
 "nbformat": 4,
 "nbformat_minor": 4
}
